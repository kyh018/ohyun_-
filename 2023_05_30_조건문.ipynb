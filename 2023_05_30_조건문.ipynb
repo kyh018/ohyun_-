{
  "nbformat": 4,
  "nbformat_minor": 0,
  "metadata": {
    "colab": {
      "provenance": [],
      "authorship_tag": "ABX9TyOGZtmVVLHWoLu5nLTZ5/4p",
      "include_colab_link": true
    },
    "kernelspec": {
      "name": "python3",
      "display_name": "Python 3"
    },
    "language_info": {
      "name": "python"
    }
  },
  "cells": [
    {
      "cell_type": "markdown",
      "metadata": {
        "id": "view-in-github",
        "colab_type": "text"
      },
      "source": [
        "<a href=\"https://colab.research.google.com/github/kyh018/ohyun_basic-coding/blob/main/2023_05_30_%EC%A1%B0%EA%B1%B4%EB%AC%B8.ipynb\" target=\"_parent\"><img src=\"https://colab.research.google.com/assets/colab-badge.svg\" alt=\"Open In Colab\"/></a>"
      ]
    },
    {
      "cell_type": "markdown",
      "source": [
        "# 1. if문\n",
        "조건을 판단하여 조건이 참이라면ㅍ 해당 조건에 맞는곳(들여쓰기 한 곳)까지 코드를 실행\n",
        "```\n",
        "# if 문의 기본구조\n",
        "if 조건문:\n",
        "   수행할 문장1\n",
        "   수행할 문장2\n",
        "```"
      ],
      "metadata": {
        "id": "xZhOEn2RHb6w"
      }
    },
    {
      "cell_type": "code",
      "execution_count": 4,
      "metadata": {
        "colab": {
          "base_uri": "https://localhost:8080/"
        },
        "id": "7cWp6qsFHV6f",
        "outputId": "ba5a6dbe-52cc-4dcc-a52c-a495b59a80ed"
      },
      "outputs": [
        {
          "output_type": "stream",
          "name": "stdout",
          "text": [
            "True\n"
          ]
        }
      ],
      "source": [
        "x=2\n",
        "if x>1 and x<10:\n",
        "  print('True')"
      ]
    },
    {
      "cell_type": "code",
      "source": [
        "# bool 값 입력(True, False)\n",
        "# if False:\n",
        "if True:\n",
        "  print(\"True\")"
      ],
      "metadata": {
        "colab": {
          "base_uri": "https://localhost:8080/"
        },
        "id": "5CVu1G2QIRay",
        "outputId": "f5aabdb8-80ba-47c6-ec78-2953f6e9dbc3"
      },
      "execution_count": 5,
      "outputs": [
        {
          "output_type": "stream",
          "name": "stdout",
          "text": [
            "True\n"
          ]
        }
      ]
    },
    {
      "cell_type": "code",
      "source": [
        "if True:\n",
        "  print('hello')\n",
        "print('one')\n",
        "\n",
        "if False:\n",
        "  print(\"world\")\n",
        "print('two')"
      ],
      "metadata": {
        "colab": {
          "base_uri": "https://localhost:8080/"
        },
        "id": "hRD7gxWCIkAb",
        "outputId": "c1457be9-4405-4a60-b488-9d8a741fd263"
      },
      "execution_count": 6,
      "outputs": [
        {
          "output_type": "stream",
          "name": "stdout",
          "text": [
            "hello\n",
            "one\n",
            "two\n"
          ]
        }
      ]
    },
    {
      "cell_type": "code",
      "source": [
        "x=10\n",
        "\n",
        "if x>5:\n",
        "  print('hello')\n",
        "print('end')\n",
        "\n",
        "if x!=5:\n",
        "  print('hello')"
      ],
      "metadata": {
        "colab": {
          "base_uri": "https://localhost:8080/"
        },
        "id": "eG1qZ_m2I2vQ",
        "outputId": "c20034cc-76ad-446c-f1e6-152a122329bc"
      },
      "execution_count": 7,
      "outputs": [
        {
          "output_type": "stream",
          "name": "stdout",
          "text": [
            "hello\n",
            "end\n",
            "hello\n"
          ]
        }
      ]
    },
    {
      "cell_type": "code",
      "source": [
        "if 1:\n",
        "  print('hello1')\n",
        "print('end!')\n",
        "\n",
        "if 0:\n",
        "  print('hello2')\n",
        "print('end!')\n",
        "\n",
        "if -1:\n",
        "  print('hello3')\n",
        "print('end!')\n",
        "\n",
        "if ' ':\n",
        "  print('hello4')\n",
        "print('end!')\n",
        "\n",
        "if '':\n",
        "  print('hello5')\n",
        "print('end!')"
      ],
      "metadata": {
        "colab": {
          "base_uri": "https://localhost:8080/"
        },
        "id": "Yi8pQSaSJQWq",
        "outputId": "baaad5f8-25ea-4d25-be86-7c3af1bc3842"
      },
      "execution_count": 8,
      "outputs": [
        {
          "output_type": "stream",
          "name": "stdout",
          "text": [
            "hello1\n",
            "end!\n",
            "end!\n",
            "hello3\n",
            "end!\n",
            "hello4\n",
            "end!\n",
            "end!\n"
          ]
        }
      ]
    },
    {
      "cell_type": "code",
      "source": [
        "if not '':\n",
        "  print('hello1')\n",
        "print('end1')\n",
        "\n",
        "if not None:\n",
        "  print('hello2')\n",
        "print('end2')"
      ],
      "metadata": {
        "colab": {
          "base_uri": "https://localhost:8080/"
        },
        "id": "1hza6Db9J9y6",
        "outputId": "9af8d342-6014-4ea2-82cd-f229c7da5682"
      },
      "execution_count": 9,
      "outputs": [
        {
          "output_type": "stream",
          "name": "stdout",
          "text": [
            "hello1\n",
            "end1\n",
            "hello2\n",
            "end2\n"
          ]
        }
      ]
    },
    {
      "cell_type": "markdown",
      "source": [
        "# 2. if ~else 문\n",
        "else문은 if 문의 조건이 거짓일 경우에 실행\n",
        "```\n",
        "# if ~else 문의 기본구조\n",
        "if 조건문:\n",
        "   수행할 문장1\n",
        "   수행할 문장2\n",
        "else:\n",
        "   수행할 문장3\n",
        "   수행할 문장4\n",
        "```"
      ],
      "metadata": {
        "id": "ya92k-yvKffA"
      }
    },
    {
      "cell_type": "code",
      "source": [
        "x = int(input())\n",
        "y = int(input())\n",
        "\n",
        "if x>y:\n",
        "  print(\"hello1\")\n",
        "else:\n",
        "  print(\"hello2\")\n"
      ],
      "metadata": {
        "colab": {
          "base_uri": "https://localhost:8080/"
        },
        "id": "SW2aGFcfKrE2",
        "outputId": "690eb395-10fc-4511-a7bf-ec8fa6bd5556"
      },
      "execution_count": 10,
      "outputs": [
        {
          "output_type": "stream",
          "name": "stdout",
          "text": [
            "5\n",
            "3\n",
            "hello\n"
          ]
        }
      ]
    },
    {
      "cell_type": "markdown",
      "source": [
        "#3 if ~elif ~else 문\n",
        "여러 개의 조건을 한번에 검사해야 하는 경우<br>\n",
        "if ~elif(여러 개 작성 가능) ~else\n",
        "```\n",
        "# if ~else 문의 기본구조\n",
        "if 조건문:\n",
        "   수행할 문장1\n",
        "   수행할 문장2\n",
        "elif 조건문:\n",
        "   수행할 문장3\n",
        "   수행할 문장4\n",
        "elif 조건문2:\n",
        "   수행할 문장5\n",
        "   수행할 문장6\n",
        "else:\n",
        "  수행할 문장\n",
        "```"
      ],
      "metadata": {
        "id": "e-Vd-NRCM8La"
      }
    },
    {
      "cell_type": "code",
      "source": [
        "x = int(input())\n",
        "y = int(input())\n",
        "\n",
        "if x>y:\n",
        "  print(\"첫 번째 입력값이 더 크다\")\n",
        "elif x<y:\n",
        "  print(\"두 번째 입력값이 더 크다\")\n",
        "else:\n",
        "  print('두 값이 같다')\n"
      ],
      "metadata": {
        "colab": {
          "base_uri": "https://localhost:8080/"
        },
        "id": "xS7fvfhDNGXa",
        "outputId": "6b9d373b-1cb3-444e-b873-e4a69d8f46bd"
      },
      "execution_count": 11,
      "outputs": [
        {
          "output_type": "stream",
          "name": "stdout",
          "text": [
            "5\n",
            "7\n",
            "두 번째 입력값이 더 크다\n"
          ]
        }
      ]
    },
    {
      "cell_type": "code",
      "source": [
        "score = int(input('점수를 입력하세요.'))\n",
        "money = 0\n",
        "\n",
        "if score>= 90:\n",
        "  print('mom i\\'m so happy')\n",
        "  money+=100000\n",
        "elif score>=80 and score<90:\n",
        "  print('mom i\\'m so happy')\n",
        "  money+=10000\n",
        "elif score>=70 and score<80:\n",
        "  print('mom i\\'m so...')\n",
        "  money+=1000\n",
        "elif score>=60 and score<70:\n",
        "  print('mom i\\'m so...')\n",
        "  money+=100\n",
        "else:\n",
        "  print('mom i\\'m so A.N.G.R.Y!')\n",
        "  money+=0\n",
        "\n",
        "print(money)"
      ],
      "metadata": {
        "colab": {
          "base_uri": "https://localhost:8080/"
        },
        "id": "sDK6e7G9OVJf",
        "outputId": "1f5f233c-371c-4920-f9cf-e437dc947ddd"
      },
      "execution_count": 14,
      "outputs": [
        {
          "output_type": "stream",
          "name": "stdout",
          "text": [
            "점수를 입력하세요.80\n",
            "mom i'm so happy\n",
            "10000\n"
          ]
        }
      ]
    },
    {
      "cell_type": "code",
      "source": [
        "\n"
      ],
      "metadata": {
        "id": "pXxvN8IfOua0"
      },
      "execution_count": null,
      "outputs": []
    }
  ]
}