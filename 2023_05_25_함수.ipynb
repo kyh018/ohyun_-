{
  "nbformat": 4,
  "nbformat_minor": 0,
  "metadata": {
    "colab": {
      "provenance": [],
      "authorship_tag": "ABX9TyMaZ2LlpBKfPC8lIDymGAUY",
      "include_colab_link": true
    },
    "kernelspec": {
      "name": "python3",
      "display_name": "Python 3"
    },
    "language_info": {
      "name": "python"
    }
  },
  "cells": [
    {
      "cell_type": "markdown",
      "metadata": {
        "id": "view-in-github",
        "colab_type": "text"
      },
      "source": [
        "<a href=\"https://colab.research.google.com/github/kyh018/ohyun_basic-coding/blob/main/2023_05_25_%ED%95%A8%EC%88%98.ipynb\" target=\"_parent\"><img src=\"https://colab.research.google.com/assets/colab-badge.svg\" alt=\"Open In Colab\"/></a>"
      ]
    },
    {
      "cell_type": "markdown",
      "source": [
        "#1. 함수의 기본 개념"
      ],
      "metadata": {
        "id": "xZV5wluRfNt9"
      }
    },
    {
      "cell_type": "markdown",
      "source": [
        "## 1.1함수\n",
        "- 코드 재사용 가능\n",
        "- 실수 감소\n",
        "- 코드의 구조 파악이 쉬움\n",
        "- 코드의 길이가 짧아짐\n"
      ],
      "metadata": {
        "id": "GvJ2QdvLfViE"
      }
    },
    {
      "cell_type": "code",
      "execution_count": 5,
      "metadata": {
        "id": "cacEnNJAe7Sr"
      },
      "outputs": [],
      "source": [
        "def 덧셈():\n",
        "  pass"
      ]
    },
    {
      "cell_type": "markdown",
      "source": [
        "###1.1.1 funtion\n",
        "1. 함수의 정의 : def\n",
        "2. 함수를 입력 : 파라미터\n",
        "3. 함수의 기능과 연산\n",
        "  함수 범위 : 들여쓰기\n",
        "  들여쓰기 : 공백 4번(권장) / 탭\n",
        "4. 함수를 출력 : return\n",
        " return 이 없으면 None\n",
        "5. 한수 호출 : 함수명()"
      ],
      "metadata": {
        "id": "9GL5OcSkgKkt"
      }
    },
    {
      "cell_type": "code",
      "source": [
        "def printnum(): #함수 정의\n",
        "  #함수 호출\n",
        "  print(\"1\") \n",
        "  print(\"2\")\n",
        "  print(\"3\")\n",
        "\n",
        "printnum() #함수 호출"
      ],
      "metadata": {
        "colab": {
          "base_uri": "https://localhost:8080/"
        },
        "id": "MwROIeTEhTGz",
        "outputId": "5e51a90e-e18a-47e7-e6e8-507d2d65af40"
      },
      "execution_count": 6,
      "outputs": [
        {
          "output_type": "stream",
          "name": "stdout",
          "text": [
            "1\n",
            "2\n",
            "3\n"
          ]
        }
      ]
    },
    {
      "cell_type": "code",
      "source": [
        "def printnum(): #함수 정의\n",
        "  #함수 호출\n",
        "  print(\"1\") \n",
        "  print(\"2\")\n",
        "print(\"3\")\n",
        "\n",
        "printnum() #함수 호출"
      ],
      "metadata": {
        "colab": {
          "base_uri": "https://localhost:8080/"
        },
        "id": "IMHkcALjhwxE",
        "outputId": "4487a1f9-18d1-45f3-cefe-f8a18d808d81"
      },
      "execution_count": 7,
      "outputs": [
        {
          "output_type": "stream",
          "name": "stdout",
          "text": [
            "3\n",
            "1\n",
            "2\n"
          ]
        }
      ]
    },
    {
      "cell_type": "code",
      "source": [
        "def function(x,y):\n",
        "  z=x+y\n",
        "  return z\n",
        "\n",
        "function(2,5)"
      ],
      "metadata": {
        "colab": {
          "base_uri": "https://localhost:8080/"
        },
        "id": "FWNiSt0_jL7k",
        "outputId": "1d29ed5d-b6f1-4c72-95a5-a2570819c526"
      },
      "execution_count": 9,
      "outputs": [
        {
          "output_type": "execute_result",
          "data": {
            "text/plain": [
              "7"
            ]
          },
          "metadata": {},
          "execution_count": 9
        }
      ]
    },
    {
      "cell_type": "code",
      "source": [
        "def function(x,y):\n",
        "  z=x+y\n",
        "  print(z)\n",
        "\n",
        "print(function(2,5))"
      ],
      "metadata": {
        "colab": {
          "base_uri": "https://localhost:8080/"
        },
        "id": "pF2wHz8nj0PL",
        "outputId": "3bfa1cce-ca26-4386-a7d9-a5279bf48b7c"
      },
      "execution_count": 12,
      "outputs": [
        {
          "output_type": "stream",
          "name": "stdout",
          "text": [
            "7\n",
            "None\n"
          ]
        }
      ]
    },
    {
      "cell_type": "code",
      "source": [
        "PI = 3.14\n",
        "\n",
        "def circle(r, inputpi):\n",
        "  z= r*r*inputpi\n",
        "  return z\n",
        "\n",
        "result = circle(10,PI)\n",
        "print(result)"
      ],
      "metadata": {
        "colab": {
          "base_uri": "https://localhost:8080/"
        },
        "id": "TKxcKyCZj-D6",
        "outputId": "e49a1bd2-a235-4f98-e302-e6c4c2235fce"
      },
      "execution_count": 17,
      "outputs": [
        {
          "output_type": "stream",
          "name": "stdout",
          "text": [
            "314.0\n"
          ]
        }
      ]
    },
    {
      "cell_type": "markdown",
      "source": [
        "### 1.1.2 함수 안에 함수 만들기"
      ],
      "metadata": {
        "id": "rJ09eGUFk79_"
      }
    },
    {
      "cell_type": "code",
      "source": [
        "def print_text():\n",
        "  text = \"python 기초\"\n",
        "  def print_text2():\n",
        "    print(text)\n",
        "  print_text2()\n",
        "print_text()"
      ],
      "metadata": {
        "colab": {
          "base_uri": "https://localhost:8080/"
        },
        "id": "EydOqWRVlDx0",
        "outputId": "796efc37-48c0-4568-bab1-d61a0e029c8d"
      },
      "execution_count": 20,
      "outputs": [
        {
          "output_type": "stream",
          "name": "stdout",
          "text": [
            "python 기초\n"
          ]
        }
      ]
    },
    {
      "cell_type": "markdown",
      "source": [
        "### 1.1.3 함수의 아규먼트와 파라미터"
      ],
      "metadata": {
        "id": "fYC6P8Q1l7AS"
      }
    },
    {
      "cell_type": "code",
      "source": [
        "def f(a,b,c):\n",
        "  print(a,b,c)\n",
        "\n",
        "#f() # error\n",
        "#f(100,10) #error\n",
        "#f(10,20,30)\n",
        "#f(c=300, a=100, b=200)"
      ],
      "metadata": {
        "colab": {
          "base_uri": "https://localhost:8080/"
        },
        "id": "YzrYwiI0mAod",
        "outputId": "a55415e4-1e96-4b60-d332-5a7313a554fa"
      },
      "execution_count": 25,
      "outputs": [
        {
          "output_type": "stream",
          "name": "stdout",
          "text": [
            "10 20 30\n",
            "100 200 300\n"
          ]
        }
      ]
    },
    {
      "cell_type": "code",
      "source": [],
      "metadata": {
        "id": "z6OPZqv3noCt"
      },
      "execution_count": null,
      "outputs": []
    },
    {
      "cell_type": "code",
      "source": [
        "def f(a=10,b=20,c=30):\n",
        "  print(a,b,c)\n",
        "\n",
        "#f() # error\n",
        "#f(100,10) #error\n",
        "#f(10,20,30)\n",
        "#f(c=300, a=100, b=200)"
      ],
      "metadata": {
        "colab": {
          "base_uri": "https://localhost:8080/"
        },
        "id": "-FZOv2bAmquh",
        "outputId": "4e217898-f3eb-45a7-a978-416f875e0f45"
      },
      "execution_count": 27,
      "outputs": [
        {
          "output_type": "stream",
          "name": "stdout",
          "text": [
            "10 20 30\n",
            "100 10 30\n"
          ]
        }
      ]
    },
    {
      "cell_type": "code",
      "source": [
        "def f(a,b=20,c=30):\n",
        "  print(a,b,c)\n",
        "  \n",
        "#f() # error\n",
        "#f(100,10) #error\n",
        "#f(10,20,30)\n",
        "#f(c=300, a=100, b=200)"
      ],
      "metadata": {
        "colab": {
          "base_uri": "https://localhost:8080/"
        },
        "id": "mma34N4QnOVZ",
        "outputId": "0205057b-ac28-44fc-939e-7583810f0cb6"
      },
      "execution_count": 30,
      "outputs": [
        {
          "output_type": "stream",
          "name": "stdout",
          "text": [
            "100 20 30\n"
          ]
        }
      ]
    },
    {
      "cell_type": "markdown",
      "source": [
        "#2 지역변수와 전역변수\n",
        "지역변수\n",
        "-함수 내부에서만 사용되는 변수\n",
        "-함수가 호출되는 동안에만 변수를 사용할 수 있고 함수가 끝나면 동시에 소멸됨\n",
        "-함수 안에서 함수 밖에 있는 변수를 호출할 수 없음\n",
        "\n",
        "전역 변수\n",
        "-프로그램 어디에서나 공급이 가능한 변수\n",
        "함수 내에서 global를 입렬하면 전역변수가 된다.\n",
        "하지만, 전역변수 사용을 권장하지 않음"
      ],
      "metadata": {
        "id": "kw6BNoaPn9TS"
      }
    },
    {
      "cell_type": "markdown",
      "source": [
        "##2.1 지역변수"
      ],
      "metadata": {
        "id": "2khMkNNBp9lN"
      }
    },
    {
      "cell_type": "code",
      "source": [
        " a = 100\n",
        "def f(a):\n",
        "  a= a+1\n",
        "  print(a)\n",
        "\n",
        "f(a)"
      ],
      "metadata": {
        "colab": {
          "base_uri": "https://localhost:8080/"
        },
        "id": "AS0WOEANoku5",
        "outputId": "3842ebfb-c987-4006-e9ab-4d008577eb08"
      },
      "execution_count": 37,
      "outputs": [
        {
          "output_type": "stream",
          "name": "stdout",
          "text": [
            "101\n"
          ]
        }
      ]
    },
    {
      "cell_type": "markdown",
      "source": [
        "## 2.2 전역변수"
      ],
      "metadata": {
        "id": "8SylwfBXqCV4"
      }
    },
    {
      "cell_type": "code",
      "source": [
        "a = 100\n",
        "\n",
        "def f():\n",
        "  global a\n",
        "  a=a+1\n",
        "  return a\n",
        "\n",
        "result = f()\n",
        "print(\"result :\",result)"
      ],
      "metadata": {
        "colab": {
          "base_uri": "https://localhost:8080/"
        },
        "id": "jTT8q40rqHWA",
        "outputId": "2a3c6889-8a7d-4a63-cdd2-29d1ec0250f2"
      },
      "execution_count": 35,
      "outputs": [
        {
          "output_type": "stream",
          "name": "stdout",
          "text": [
            "result : 101\n"
          ]
        }
      ]
    },
    {
      "cell_type": "markdown",
      "source": [
        "#3 재귀함수(recursion)\n",
        "내가 나를 호출하여 반복적으로 값을 반환하는 함수"
      ],
      "metadata": {
        "id": "EHA0HwJCqw74"
      }
    },
    {
      "cell_type": "code",
      "source": [
        "#import sys\n",
        "#sys.setrecursionlimit\n",
        "def 숫자출력():\n",
        "  print(1)\n",
        "  return 숫자출력()\n",
        "\n",
        "숫자출력()"
      ],
      "metadata": {
        "id": "NlDrEIdBq7_r"
      },
      "execution_count": 38,
      "outputs": []
    },
    {
      "cell_type": "markdown",
      "source": [
        "##3.1 무한 반복에 종료 조건을 부여"
      ],
      "metadata": {
        "id": "sMCBoAjtsAwq"
      }
    },
    {
      "cell_type": "code",
      "source": [
        "#import sys\n",
        "#sys.setrecursionlimit\n",
        "def 숫자출력(count):\n",
        "  if count> 100:\n",
        "    return\n",
        "  print(count)\n",
        "  return 숫자출력(count+1)\n",
        "\n",
        "숫자출력(1)"
      ],
      "metadata": {
        "colab": {
          "base_uri": "https://localhost:8080/"
        },
        "id": "c6pRw-L3sGXv",
        "outputId": "847450d8-d810-49a6-fdd0-26607c8c2305"
      },
      "execution_count": 40,
      "outputs": [
        {
          "output_type": "stream",
          "name": "stdout",
          "text": [
            "1\n",
            "2\n",
            "3\n",
            "4\n",
            "5\n",
            "6\n",
            "7\n",
            "8\n",
            "9\n",
            "10\n",
            "11\n",
            "12\n",
            "13\n",
            "14\n",
            "15\n",
            "16\n",
            "17\n",
            "18\n",
            "19\n",
            "20\n",
            "21\n",
            "22\n",
            "23\n",
            "24\n",
            "25\n",
            "26\n",
            "27\n",
            "28\n",
            "29\n",
            "30\n",
            "31\n",
            "32\n",
            "33\n",
            "34\n",
            "35\n",
            "36\n",
            "37\n",
            "38\n",
            "39\n",
            "40\n",
            "41\n",
            "42\n",
            "43\n",
            "44\n",
            "45\n",
            "46\n",
            "47\n",
            "48\n",
            "49\n",
            "50\n",
            "51\n",
            "52\n",
            "53\n",
            "54\n",
            "55\n",
            "56\n",
            "57\n",
            "58\n",
            "59\n",
            "60\n",
            "61\n",
            "62\n",
            "63\n",
            "64\n",
            "65\n",
            "66\n",
            "67\n",
            "68\n",
            "69\n",
            "70\n",
            "71\n",
            "72\n",
            "73\n",
            "74\n",
            "75\n",
            "76\n",
            "77\n",
            "78\n",
            "79\n",
            "80\n",
            "81\n",
            "82\n",
            "83\n",
            "84\n",
            "85\n",
            "86\n",
            "87\n",
            "88\n",
            "89\n",
            "90\n",
            "91\n",
            "92\n",
            "93\n",
            "94\n",
            "95\n",
            "96\n",
            "97\n",
            "98\n",
            "99\n",
            "100\n"
          ]
        }
      ]
    },
    {
      "cell_type": "markdown",
      "source": [
        "##3.2 factorial 함수"
      ],
      "metadata": {
        "id": "j-3bnM-pss1A"
      }
    },
    {
      "cell_type": "code",
      "source": [
        "def factorial(n):\n",
        "  if n==1:\n",
        "    return 1\n",
        "  else:\n",
        "    return n *factorial(n-1)\n",
        "\n",
        "factorial(int(input()))"
      ],
      "metadata": {
        "colab": {
          "base_uri": "https://localhost:8080/"
        },
        "id": "NTAilEYqsy4u",
        "outputId": "697f8efb-ca3a-4ce5-e925-549b9d8cac4d"
      },
      "execution_count": 42,
      "outputs": [
        {
          "name": "stdout",
          "output_type": "stream",
          "text": [
            "10\n"
          ]
        },
        {
          "output_type": "execute_result",
          "data": {
            "text/plain": [
              "3628800"
            ]
          },
          "metadata": {},
          "execution_count": 42
        }
      ]
    }
  ]
}