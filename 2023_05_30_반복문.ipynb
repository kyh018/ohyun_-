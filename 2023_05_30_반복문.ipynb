{
  "nbformat": 4,
  "nbformat_minor": 0,
  "metadata": {
    "colab": {
      "provenance": [],
      "toc_visible": true,
      "include_colab_link": true
    },
    "kernelspec": {
      "name": "python3",
      "display_name": "Python 3"
    },
    "language_info": {
      "name": "python"
    }
  },
  "cells": [
    {
      "cell_type": "markdown",
      "metadata": {
        "id": "view-in-github",
        "colab_type": "text"
      },
      "source": [
        "<a href=\"https://colab.research.google.com/github/kyh018/ohyun_basic-coding/blob/main/2023_05_30_%EB%B0%98%EB%B3%B5%EB%AC%B8.ipynb\" target=\"_parent\"><img src=\"https://colab.research.google.com/assets/colab-badge.svg\" alt=\"Open In Colab\"/></a>"
      ]
    },
    {
      "cell_type": "markdown",
      "source": [
        "# 1. for문\n",
        "정해진 순서열을 반복하는 것"
      ],
      "metadata": {
        "id": "E_ong3stUCAr"
      }
    },
    {
      "cell_type": "code",
      "execution_count": null,
      "metadata": {
        "colab": {
          "base_uri": "https://localhost:8080/"
        },
        "id": "B9J6-DdqT9Xv",
        "outputId": "61dcb50f-5997-4afa-8d46-01979376c9d7"
      },
      "outputs": [
        {
          "output_type": "stream",
          "name": "stdout",
          "text": [
            "1번째 입니다.\n",
            "2번째 입니다.\n",
            "3번째 입니다.\n",
            "4번째 입니다.\n",
            "5번째 입니다.\n"
          ]
        }
      ],
      "source": [
        "# 튜플의 길이만큼 문장을 반복\n",
        "for x in (1,2,3,4,5):\n",
        "\tprint(f'{x}번째 입니다.')"
      ]
    },
    {
      "cell_type": "markdown",
      "source": [
        "## 1.1 for문의 기본구조\n",
        "for문은 순서열을 순회하며 순서열의 끝에 도달하면 반복을 멈추게 됨 <br>\n",
        "객체를 처음부터 끝까지 하나씩 추출하며 순회하기 때문에 사용법이 쉬워 가장 많이 사용<br>\n",
        "while은 비교할 변수를 먼저 선언해주어야 하기 때문에, 비교적 for를 더 많이 사용"
      ],
      "metadata": {
        "id": "VXAVNR-vUIF-"
      }
    },
    {
      "cell_type": "code",
      "source": [
        "# x는 다른 언어처럼 초기화 하지 않아도 작동\n",
        "for x in (1,2,3,4,5):\n",
        "\tprint(f'{x}번째')"
      ],
      "metadata": {
        "colab": {
          "base_uri": "https://localhost:8080/"
        },
        "id": "y59G32WSUUqr",
        "outputId": "e39dde94-2650-4eda-b95f-353d62c78156"
      },
      "execution_count": null,
      "outputs": [
        {
          "output_type": "stream",
          "name": "stdout",
          "text": [
            "1번째\n",
            "2번째\n",
            "3번째\n",
            "4번째\n",
            "5번째\n"
          ]
        }
      ]
    },
    {
      "cell_type": "code",
      "source": [
        "#for 문의 구조\n",
        "# for 문의 범위 : 시퀀스 자료형, 반복(순회) 가능한 자료형\n",
        "for (변수명) in (순회 가능한 객체) :\n",
        "    수행할 문장1\n",
        "\t\t수행할 문장2"
      ],
      "metadata": {
        "id": "SI05jsHcUXby"
      },
      "execution_count": null,
      "outputs": []
    },
    {
      "cell_type": "code",
      "source": [
        "# 1. String(문자열)을 범위로 지정한 예시\n",
        "문자열 = 'hello world'\n",
        "for a in 문자열 :\n",
        "    print(a)"
      ],
      "metadata": {
        "colab": {
          "base_uri": "https://localhost:8080/"
        },
        "id": "BbQIe0M5UfBZ",
        "outputId": "74bbdd99-fa4a-4fab-d8cd-d0e51abafc1c"
      },
      "execution_count": null,
      "outputs": [
        {
          "output_type": "stream",
          "name": "stdout",
          "text": [
            "h\n",
            "e\n",
            "l\n",
            "l\n",
            "o\n",
            " \n",
            "w\n",
            "o\n",
            "r\n",
            "l\n",
            "d\n"
          ]
        }
      ]
    },
    {
      "cell_type": "code",
      "source": [
        "# 2. List(리스트)를 범위로 지정한 예시\n",
        "리스트 = ['하나', '둘', '셋', '넷', '다섯']\n",
        "for a in 리스트:\n",
        "    print(a)"
      ],
      "metadata": {
        "colab": {
          "base_uri": "https://localhost:8080/"
        },
        "id": "1s4EqRBVUhdX",
        "outputId": "a768782b-4a6a-47a1-d3b6-6aa5e54db34c"
      },
      "execution_count": null,
      "outputs": [
        {
          "output_type": "stream",
          "name": "stdout",
          "text": [
            "하나\n",
            "둘\n",
            "셋\n",
            "넷\n",
            "다섯\n"
          ]
        }
      ]
    },
    {
      "cell_type": "code",
      "source": [
        "# 3. Dictionary(사전)을 범위로 지정한 예시\n",
        "# Dictionary(사전)형 자료의 경우에는 key(키)만을 가져오게 됨\n",
        "딕셔너리 = {\n",
        "    '하나' : 'one',\n",
        "    '둘' : 'two',\n",
        "    '셋' : 'three',\n",
        "}\n",
        "\n",
        "for a in 딕셔너리:\n",
        "    print(a)"
      ],
      "metadata": {
        "colab": {
          "base_uri": "https://localhost:8080/"
        },
        "id": "lAvjCstTUmu2",
        "outputId": "8fa0ad65-7bb1-44af-9102-17b3fc143477"
      },
      "execution_count": null,
      "outputs": [
        {
          "output_type": "stream",
          "name": "stdout",
          "text": [
            "하나\n",
            "둘\n",
            "셋\n"
          ]
        }
      ]
    },
    {
      "cell_type": "code",
      "source": [
        "# key(키)에 해당하는 value(값)도 같이 가져오고 싶다면 튜플 언패킹을 사용\n",
        "for key,value in 딕셔너리.items():\n",
        "    print(\"{0} : {1}\".format(key, value))"
      ],
      "metadata": {
        "colab": {
          "base_uri": "https://localhost:8080/"
        },
        "id": "juhrdAjWUsDu",
        "outputId": "5821b7e4-280e-44ca-f306-674bd101f5df"
      },
      "execution_count": null,
      "outputs": [
        {
          "output_type": "stream",
          "name": "stdout",
          "text": [
            "하나 : one\n",
            "둘 : two\n",
            "셋 : three\n"
          ]
        }
      ]
    },
    {
      "cell_type": "markdown",
      "source": [
        "range : 특정 범위(연속하는 수열)를 생성하기 위해 사용<br>\n",
        "- range(시작값, 종료값, 연속하는 두 수의 차)\n",
        "- range(start, stop, step)\n",
        "\n",
        "생성된 range의 마지막 요소는 종료값보다 한 단계 작다(stop-1)"
      ],
      "metadata": {
        "id": "Kl-wn-FaUtsc"
      }
    },
    {
      "cell_type": "code",
      "source": [
        "str = 'hello world'\n",
        "str[0:11:2]"
      ],
      "metadata": {
        "colab": {
          "base_uri": "https://localhost:8080/",
          "height": 36
        },
        "id": "b6gDrdijSWXa",
        "outputId": "41e34d9c-ebd6-4691-faac-d07bc88747fd"
      },
      "execution_count": 4,
      "outputs": [
        {
          "output_type": "execute_result",
          "data": {
            "text/plain": [
              "'hlowrd'"
            ],
            "application/vnd.google.colaboratory.intrinsic+json": {
              "type": "string"
            }
          },
          "metadata": {},
          "execution_count": 4
        }
      ]
    },
    {
      "cell_type": "code",
      "source": [
        "# 시작 값 : 0, 종료 값 : 5, 연속하는 두 수의 차 : 1\n",
        "for a in range(0, 5, 1):\n",
        "    print(a)"
      ],
      "metadata": {
        "colab": {
          "base_uri": "https://localhost:8080/"
        },
        "id": "EpPfSDYKUz9L",
        "outputId": "7414b951-ae45-4a22-d796-142aaf5580f1"
      },
      "execution_count": null,
      "outputs": [
        {
          "output_type": "stream",
          "name": "stdout",
          "text": [
            "0\n",
            "1\n",
            "2\n",
            "3\n",
            "4\n"
          ]
        }
      ]
    },
    {
      "cell_type": "code",
      "source": [
        "# 시작 값 : 0, 종료 값 : 10, 연속하는 두 수의 차 : 2\n",
        "for a in range(0, 10, 2):\n",
        "    print(a)"
      ],
      "metadata": {
        "colab": {
          "base_uri": "https://localhost:8080/"
        },
        "id": "mkC5tFxdU4Zk",
        "outputId": "2cb8d8bd-107c-4f0c-d6b5-272823ba6e73"
      },
      "execution_count": null,
      "outputs": [
        {
          "output_type": "stream",
          "name": "stdout",
          "text": [
            "0\n",
            "2\n",
            "4\n",
            "6\n",
            "8\n"
          ]
        }
      ]
    },
    {
      "cell_type": "code",
      "source": [
        "# 시작 값 : 0, 종료 값 : 5, 연속하는 두수의 차 : 생략(=1)\n",
        "for a in range(0, 5):\n",
        "    print(a)"
      ],
      "metadata": {
        "colab": {
          "base_uri": "https://localhost:8080/"
        },
        "id": "dhT2o1Z4U-Y4",
        "outputId": "35ac9d81-06eb-4589-9b95-7fc41892990f"
      },
      "execution_count": null,
      "outputs": [
        {
          "output_type": "stream",
          "name": "stdout",
          "text": [
            "0\n",
            "1\n",
            "2\n",
            "3\n",
            "4\n"
          ]
        }
      ]
    },
    {
      "cell_type": "code",
      "source": [
        "# 종료값만 입력하여 호출\n",
        "# 시작 값 : 생략(=0), 종료 값 : 5, 연속하는 두 수의 차 : 생략(=1)\n",
        "for a in range(5):\n",
        "    print(a)"
      ],
      "metadata": {
        "colab": {
          "base_uri": "https://localhost:8080/"
        },
        "id": "zi0AH2GTVDIi",
        "outputId": "3dc2b59f-061b-4aa8-d6a8-1d139f07c4a0"
      },
      "execution_count": null,
      "outputs": [
        {
          "output_type": "stream",
          "name": "stdout",
          "text": [
            "0\n",
            "1\n",
            "2\n",
            "3\n",
            "4\n"
          ]
        }
      ]
    },
    {
      "cell_type": "code",
      "source": [
        "# 연속하는 두 수의 차를 마이너스로 둘 수도 있다. \n",
        "# 시작 값과 종료 값 보다 크게 해야 한다\n",
        "# 시작 값 : 10, 종료 값 : 5, 연속하는 두 수의 차 : -1\n",
        "for a in range(10, 5, -1):\n",
        "    print(a)"
      ],
      "metadata": {
        "colab": {
          "base_uri": "https://localhost:8080/"
        },
        "id": "K6CAtQ4uVH2F",
        "outputId": "efbd0fb8-6aa7-4555-8d71-9bcaf65dbb33"
      },
      "execution_count": null,
      "outputs": [
        {
          "output_type": "stream",
          "name": "stdout",
          "text": [
            "10\n",
            "9\n",
            "8\n",
            "7\n",
            "6\n"
          ]
        }
      ]
    },
    {
      "cell_type": "markdown",
      "source": [
        "for 문에 사용될 수 있는 시퀀스형 자료 : 문자열, 리스트, 튜플 등<br>\n",
        "__ iter __ , __ next __ 메서드로 사용해 순회 가능<br>\n",
        "iter() 함수, next() 함수로도 실행 가능<br>\n",
        "iter() 함수 : 값을 차례대로 반환할 수 있는 이터레이터 객체로 반환<br>\n",
        "next() 함수 : 이터레이터에서 값을 가져온다 <br>\n",
        "<br>\n",
        "범위가 넘어가는 것을 호출했을 경우에 `StopIteration` 에러가 발생됩니다. <br>\n",
        "`StopIteration`을 만나면 반복문이 종료"
      ],
      "metadata": {
        "id": "h7KQw4PmVbz4"
      }
    },
    {
      "cell_type": "code",
      "source": [
        "listx= [100,200,300,400]\n",
        "strx= 'abcd'\n",
        "dictx = {'one':1, 'two':2}\n",
        "\n",
        "listxlter = iter(listx)\n",
        "strxlter= iter(strx)\n",
        "dictxlter= iter(dictx)\n",
        "\n",
        "# 시퀀스형 자료형에만 next가 되는 것이 아니고 \n",
        "# next 다음 순회 값을 지정할 뿐입니다.\n",
        "print(next(listxlter), next(listxlter), next(listxlter), next(listxlter))\n",
        "print(next(strxlter), next(strxlter), next(strxlter), next(strxlter))\n",
        "print(next(dictxlter), next(dictxlter))"
      ],
      "metadata": {
        "colab": {
          "base_uri": "https://localhost:8080/"
        },
        "id": "FQyWb04oVchd",
        "outputId": "41a05ca3-b095-4d5e-9b98-c4e07a1f03b7"
      },
      "execution_count": null,
      "outputs": [
        {
          "output_type": "stream",
          "name": "stdout",
          "text": [
            "100 200 300 400\n",
            "a b c d\n",
            "one two\n"
          ]
        }
      ]
    },
    {
      "cell_type": "markdown",
      "source": [
        "## 1.2 for, else\n",
        "if문 뿐만 아니라 for에서도 else를 사용할 수 있다. <br>\n",
        "else는 루프가 정상 종료되었을 때, 처음부터 자료형이 비어있었을 때 실행됩니다. <br>\n",
        "break문을 만나면 else 문을 실행하지 않고 빠져나옵니다."
      ],
      "metadata": {
        "id": "zBk27F66Vhby"
      }
    },
    {
      "cell_type": "code",
      "source": [
        "for i in range(100):\n",
        "    print(f'{i} 물고기를 잡았습니다.')\n",
        "    if i == 5:\n",
        "        print('만선입니다. 물고기를 다 잡았습니다.')\n",
        "        break\n",
        "else:\n",
        "     print('아직 여유가 좀 있지만, 물고기가 더 없는 것 같으니 이정도로 만족하고 돌아갑시다.')\n",
        "print('수고하셨습니다.')"
      ],
      "metadata": {
        "colab": {
          "base_uri": "https://localhost:8080/"
        },
        "id": "kVwd0wO8W-y_",
        "outputId": "594aca11-f8ec-4660-fb49-a9267154b5a2"
      },
      "execution_count": null,
      "outputs": [
        {
          "output_type": "stream",
          "name": "stdout",
          "text": [
            "0 물고기를 잡았습니다.\n",
            "1 물고기를 잡았습니다.\n",
            "2 물고기를 잡았습니다.\n",
            "3 물고기를 잡았습니다.\n",
            "4 물고기를 잡았습니다.\n",
            "5 물고기를 잡았습니다.\n",
            "만선입니다. 물고기를 다 잡았습니다.\n",
            "수고하셨습니다.\n"
          ]
        }
      ]
    },
    {
      "cell_type": "code",
      "source": [
        "for i in range(5):\n",
        "    print(f'{i} 물고기를 잡았습니다.')\n",
        "    if i == 5:\n",
        "        print('만선입니다. 물고기를 다 잡았습니다.')\n",
        "        break\n",
        "else:\n",
        "    print('아직 여유가 좀 있지만, 물고기가 더 없는 것 같으니 이정도로 만족하고 돌아갑시다.')\n",
        "print('수고하셨습니다.')"
      ],
      "metadata": {
        "colab": {
          "base_uri": "https://localhost:8080/"
        },
        "id": "SocbVwjHXAYz",
        "outputId": "e861829f-c2bd-4f38-8171-4fbd17138441"
      },
      "execution_count": null,
      "outputs": [
        {
          "output_type": "stream",
          "name": "stdout",
          "text": [
            "0 물고기를 잡았습니다.\n",
            "1 물고기를 잡았습니다.\n",
            "2 물고기를 잡았습니다.\n",
            "3 물고기를 잡았습니다.\n",
            "4 물고기를 잡았습니다.\n",
            "아직 여유가 좀 있지만, 물고기가 더 없는 것 같으니 이정도로 만족하고 돌아갑시다.\n",
            "수고하셨습니다.\n"
          ]
        }
      ]
    },
    {
      "cell_type": "markdown",
      "source": [
        "## 1.3 지능형 리스트(list comprehension)\n",
        "가장 많이 사용되는 list 생성 기법입니다."
      ],
      "metadata": {
        "id": "ndr443D1XEd5"
      }
    },
    {
      "cell_type": "code",
      "source": [
        "#1\n",
        "x= [i for i in range(1, 10)]\n",
        "print(x)\n",
        "\n",
        "x2 = []\n",
        "for i in range(1,10):\n",
        "    x2.append(i)\n",
        "print(x2)\n",
        "\n",
        "#2\n",
        "y=['{}X{}={}'.format(i, j, i*j) for i in range(2, 10) for j in range(1, 10)]\n",
        "print(y)\n",
        "\n",
        "y2 = []\n",
        "for i in range(2,10):\n",
        "    for j in range(1,10):\n",
        "        y2.append('{}X{}={}'.format(i, j, i*j))\n",
        "print(y2)\n",
        "\n",
        "#3\n",
        "def sumthingFunction(i):\n",
        "    if i % 100 ==0:\n",
        "        return i\n",
        "    else:\n",
        "        return 0\n",
        "\n",
        "기존리스트= [100,200,300,101,202,303]\n",
        "새로운리스트= [sumthingFunction(i) for i in 기존리스트]\n",
        "print(sum(새로운리스트))\n",
        "\n",
        "새로운리스트2 = []\n",
        "for i in 기존리스트:\n",
        "    새로운리스트2.append(sumthingFunction(i))\n",
        "print(sum(새로운리스트2))"
      ],
      "metadata": {
        "colab": {
          "base_uri": "https://localhost:8080/"
        },
        "id": "dldSlr4DXLh_",
        "outputId": "ca77b37a-1f9b-4475-bca6-5365da4c89e7"
      },
      "execution_count": 5,
      "outputs": [
        {
          "output_type": "stream",
          "name": "stdout",
          "text": [
            "[1, 2, 3, 4, 5, 6, 7, 8, 9]\n",
            "[1, 2, 3, 4, 5, 6, 7, 8, 9]\n",
            "['2X1=2', '2X2=4', '2X3=6', '2X4=8', '2X5=10', '2X6=12', '2X7=14', '2X8=16', '2X9=18', '3X1=3', '3X2=6', '3X3=9', '3X4=12', '3X5=15', '3X6=18', '3X7=21', '3X8=24', '3X9=27', '4X1=4', '4X2=8', '4X3=12', '4X4=16', '4X5=20', '4X6=24', '4X7=28', '4X8=32', '4X9=36', '5X1=5', '5X2=10', '5X3=15', '5X4=20', '5X5=25', '5X6=30', '5X7=35', '5X8=40', '5X9=45', '6X1=6', '6X2=12', '6X3=18', '6X4=24', '6X5=30', '6X6=36', '6X7=42', '6X8=48', '6X9=54', '7X1=7', '7X2=14', '7X3=21', '7X4=28', '7X5=35', '7X6=42', '7X7=49', '7X8=56', '7X9=63', '8X1=8', '8X2=16', '8X3=24', '8X4=32', '8X5=40', '8X6=48', '8X7=56', '8X8=64', '8X9=72', '9X1=9', '9X2=18', '9X3=27', '9X4=36', '9X5=45', '9X6=54', '9X7=63', '9X8=72', '9X9=81']\n",
            "['2X1=2', '2X2=4', '2X3=6', '2X4=8', '2X5=10', '2X6=12', '2X7=14', '2X8=16', '2X9=18', '3X1=3', '3X2=6', '3X3=9', '3X4=12', '3X5=15', '3X6=18', '3X7=21', '3X8=24', '3X9=27', '4X1=4', '4X2=8', '4X3=12', '4X4=16', '4X5=20', '4X6=24', '4X7=28', '4X8=32', '4X9=36', '5X1=5', '5X2=10', '5X3=15', '5X4=20', '5X5=25', '5X6=30', '5X7=35', '5X8=40', '5X9=45', '6X1=6', '6X2=12', '6X3=18', '6X4=24', '6X5=30', '6X6=36', '6X7=42', '6X8=48', '6X9=54', '7X1=7', '7X2=14', '7X3=21', '7X4=28', '7X5=35', '7X6=42', '7X7=49', '7X8=56', '7X9=63', '8X1=8', '8X2=16', '8X3=24', '8X4=32', '8X5=40', '8X6=48', '8X7=56', '8X8=64', '8X9=72', '9X1=9', '9X2=18', '9X3=27', '9X4=36', '9X5=45', '9X6=54', '9X7=63', '9X8=72', '9X9=81']\n",
            "600\n",
            "600\n"
          ]
        }
      ]
    },
    {
      "cell_type": "markdown",
      "source": [
        "## 1.4 다중 리스트 순회\n",
        "여러개의 값을 한꺼번에 받아 순회 가능"
      ],
      "metadata": {
        "id": "o5rnjpVOXNHz"
      }
    },
    {
      "cell_type": "code",
      "source": [
        "#다중 리스트 for문\n",
        "skill = [\n",
        "        ('고기잡이', 100),\n",
        "        ('고기팔기', 120),\n",
        "        ('낚시', 5),\n",
        "        ('통발', 5),\n",
        "        ('큰그물', 5)\n",
        "]\n",
        "\n",
        "for i,j in skill:\n",
        "    print(i,j)\n"
      ],
      "metadata": {
        "colab": {
          "base_uri": "https://localhost:8080/"
        },
        "id": "z4O_fjJ4XOD8",
        "outputId": "1a544b3b-67fe-4f2a-ccf8-a0bbb353e886"
      },
      "execution_count": null,
      "outputs": [
        {
          "output_type": "stream",
          "name": "stdout",
          "text": [
            "고기잡이 100\n",
            "고기팔기 120\n",
            "낚시 5\n",
            "통발 5\n",
            "큰그물 5\n"
          ]
        }
      ]
    },
    {
      "cell_type": "code",
      "source": [
        "#하나만 리스트여도 쌍이면 상관없이 잘 돌아감    \n",
        "skill = [\n",
        "        ('고기잡이', 100, 'SS'),\n",
        "        ['고기팔기', 120, 'SSS'],\n",
        "        ('낚시', 5, 'C'),\n",
        "        ('통발', 5, 'C'),\n",
        "        ('큰그물', 5, 'C')\n",
        "]\n",
        "\n",
        "for skillName, skillLevel, skillGrade in skill:\n",
        "    print(skillName, skillLevel, skillGrade)"
      ],
      "metadata": {
        "colab": {
          "base_uri": "https://localhost:8080/"
        },
        "id": "FMIo3KMOXTcw",
        "outputId": "48572029-3aac-47fb-fa03-cb8004cedfa0"
      },
      "execution_count": null,
      "outputs": [
        {
          "output_type": "stream",
          "name": "stdout",
          "text": [
            "고기잡이 100 SS\n",
            "고기팔기 120 SSS\n",
            "낚시 5 C\n",
            "통발 5 C\n",
            "큰그물 5 C\n"
          ]
        }
      ]
    },
    {
      "cell_type": "markdown",
      "source": [
        "## 1.5 enumerate\n",
        "enumerate는 순서를 매길 때 사용"
      ],
      "metadata": {
        "id": "0txlPuZVXVPn"
      }
    },
    {
      "cell_type": "code",
      "source": [
        "# enumerate\n",
        "skill = [\n",
        "        ('고기잡이', 100, 'SS'),\n",
        "        ('고기팔기', 120, 'SSS'),\n",
        "        ('낚시', 5, 'C'),\n",
        "        ('통발', 5, 'C'),\n",
        "        ('큰그물', 5, 'C')\n",
        "]\n",
        "\n",
        "for i, (skillName, skillLevel, skillGrade) in enumerate(skill):\n",
        "    print(i, skillName, skillLevel, skillGrade)\n",
        "\n",
        "for i, j in enumerate(skill, 100):\n",
        "    print(i, j)"
      ],
      "metadata": {
        "colab": {
          "base_uri": "https://localhost:8080/"
        },
        "id": "Lk76u1ITXZD0",
        "outputId": "c0de7d50-4ef5-4fec-e234-bb96aaffbd37"
      },
      "execution_count": null,
      "outputs": [
        {
          "output_type": "stream",
          "name": "stdout",
          "text": [
            "0 고기잡이 100 SS\n",
            "1 고기팔기 120 SSS\n",
            "2 낚시 5 C\n",
            "3 통발 5 C\n",
            "4 큰그물 5 C\n",
            "100 ('고기잡이', 100, 'SS')\n",
            "101 ('고기팔기', 120, 'SSS')\n",
            "102 ('낚시', 5, 'C')\n",
            "103 ('통발', 5, 'C')\n",
            "104 ('큰그물', 5, 'C')\n"
          ]
        }
      ]
    },
    {
      "cell_type": "markdown",
      "source": [
        "# 2. while문\n",
        "조건이 참인 동안에 명령을 반복해서 수행<br>\n",
        "반복할 명령은 들여쓰기로 구분<br>\n",
        "조건이 거짓이면 들여쓰기로 구분되어 있는 반복 구문을 탈출<br>"
      ],
      "metadata": {
        "id": "lIH6d92HXeh0"
      }
    },
    {
      "cell_type": "code",
      "source": [
        "# while문의 구조\n",
        "while 조건문 :\n",
        "\t수행할 문장1\n",
        "\t수행할 문장2"
      ],
      "metadata": {
        "id": "DTMu0_w_XmEX"
      },
      "execution_count": null,
      "outputs": []
    },
    {
      "cell_type": "code",
      "source": [
        "a = 1\n",
        "while a < 10 :\n",
        "\tprint(a)\n",
        "\ta += 1 # 할당연산 -> a=10 되면 조건이 거짓->루프 탈출"
      ],
      "metadata": {
        "colab": {
          "base_uri": "https://localhost:8080/"
        },
        "id": "F9rdLH3DXhcm",
        "outputId": "af303b06-cf4a-4a74-9c3f-2a66e60f9e90"
      },
      "execution_count": null,
      "outputs": [
        {
          "output_type": "stream",
          "name": "stdout",
          "text": [
            "1\n",
            "2\n",
            "3\n",
            "4\n",
            "5\n",
            "6\n",
            "7\n",
            "8\n",
            "9\n"
          ]
        }
      ]
    },
    {
      "cell_type": "markdown",
      "source": [
        "## 2.1 무한반복 while, break\n",
        "break는 흐름을 끊어 중단할 때 사용<br>\n",
        "특정 코드를 반복하고자 for, while 문을 이용하여 반복문(loop)을 만들었다면 break 문을 사용하여 반복문을 중단할 수 있다."
      ],
      "metadata": {
        "id": "R6Zqzr3NXoCY"
      }
    },
    {
      "cell_type": "code",
      "source": [
        "숫자 = 0\n",
        "while True:\n",
        "\tprint(\"현재 숫자는 \", 숫자, \"입니다.\")\n",
        "\t숫자 += 1\n",
        "\tif 숫자 > 5:\n",
        "\t\tprint(\"반복문을 종료합니다.\")\n",
        "\t\tbreak"
      ],
      "metadata": {
        "colab": {
          "base_uri": "https://localhost:8080/"
        },
        "id": "xuFPD4JcXrYf",
        "outputId": "07e12be2-af17-4dff-a74a-e35498198343"
      },
      "execution_count": null,
      "outputs": [
        {
          "output_type": "stream",
          "name": "stdout",
          "text": [
            "현재 숫자는  0 입니다.\n",
            "현재 숫자는  1 입니다.\n",
            "현재 숫자는  2 입니다.\n",
            "현재 숫자는  3 입니다.\n",
            "현재 숫자는  4 입니다.\n",
            "현재 숫자는  5 입니다.\n",
            "반복문을 종료합니다.\n"
          ]
        }
      ]
    },
    {
      "cell_type": "markdown",
      "source": [
        "## 2.2 while, else\n",
        "아래의 코드에서 주석 처리된 부분을 풀어보시고 주석이 될 때와 되지 않을 때를 비교해보세요."
      ],
      "metadata": {
        "id": "eiRckWldXxoL"
      }
    },
    {
      "cell_type": "code",
      "source": [
        "숫자 = 0\n",
        "while 숫자 < 5:\n",
        "    print(\"현재 숫자는 \", 숫자, \"입니다.\")\n",
        "    숫자 += 1\n",
        "    # if 숫자 > 3:\n",
        "    #     break\n",
        "else:\n",
        "    print('반복문을 종료합니다.')"
      ],
      "metadata": {
        "colab": {
          "base_uri": "https://localhost:8080/"
        },
        "id": "ATdVBU7PXyk5",
        "outputId": "d3cd7494-5a16-4870-9009-42a8cd00dd03"
      },
      "execution_count": null,
      "outputs": [
        {
          "output_type": "stream",
          "name": "stdout",
          "text": [
            "현재 숫자는  0 입니다.\n",
            "현재 숫자는  1 입니다.\n",
            "현재 숫자는  2 입니다.\n",
            "현재 숫자는  3 입니다.\n",
            "현재 숫자는  4 입니다.\n",
            "반복문을 종료합니다.\n"
          ]
        }
      ]
    },
    {
      "cell_type": "markdown",
      "source": [
        "# 3. break\n",
        "break는 흐름을 끊어 중단할 때 사용<br>\n",
        "break 구문은 바로 위의 for나 while문만 탈출<br>\n",
        "반복문(loop) 순회 중에 break 문을 만나면 반복문의 내부 블록을 벗어나게 된다. "
      ],
      "metadata": {
        "id": "_s3GhqhQYB4h"
      }
    },
    {
      "cell_type": "code",
      "source": [
        "# 어떠한 장치 없이 break를 넣으면 반복문이 반복하지 않음\n",
        "# 예제1(while)\n",
        "while 조건:\n",
        "\t반복 실행할 코드\n",
        "\tbreak # while 구문을 탈출\n",
        "\n",
        "# 예제1(for)\n",
        "for 변수 in 범위:\n",
        "\tbreak # for 반복문 탈출"
      ],
      "metadata": {
        "id": "vsjSmtiLX3gv"
      },
      "execution_count": null,
      "outputs": []
    },
    {
      "cell_type": "code",
      "source": [
        "# 조건 안에 넣어 실행\n",
        "# 예제2(while)\n",
        "while 조건:\n",
        "\t반복 실행할 코드\n",
        "\tif 조건:\n",
        "\t\tbreak # while 구문을 탈출\n",
        "\n",
        "# 예제2(for)\n",
        "for 변수 in 범위:\n",
        "\t반복 실행할 코드\n",
        "\tif 조건 :\n",
        "\t\tbreak # for 반복문 탈출\t"
      ],
      "metadata": {
        "id": "tCI2RExOYGlE"
      },
      "execution_count": null,
      "outputs": []
    },
    {
      "cell_type": "code",
      "source": [
        "시간 = 0\n",
        "현재시간 = int(input(\"시(hour)를 입력해주세요. \"))\n",
        "종료시간 = 18\n",
        "if 현재시간 > 종료시간:\n",
        "    print('영업시간이 끝났기 때문에 영업을 종료합니다.')\n",
        "else:\n",
        "    while True:\n",
        "        시간 += 1\n",
        "        현재시간 += 1\n",
        "        print('{}시간이 지나 {}시가 되었습니다'.format(시간,현재시간))\n",
        "        if 현재시간 == 종료시간:\n",
        "            print('영업 종료시간이 되었기 때문에 영업을 종료합니다.')\n",
        "            break"
      ],
      "metadata": {
        "colab": {
          "base_uri": "https://localhost:8080/"
        },
        "id": "BppF7xUFYNvr",
        "outputId": "04316d9e-eba3-4767-de4b-aa842ad89a05"
      },
      "execution_count": null,
      "outputs": [
        {
          "output_type": "stream",
          "name": "stdout",
          "text": [
            "시(hour)를 입력해주세요. 14\n",
            "1시간이 지나 15시가 되었습니다\n",
            "2시간이 지나 16시가 되었습니다\n",
            "3시간이 지나 17시가 되었습니다\n",
            "4시간이 지나 18시가 되었습니다\n",
            "영업 종료시간이 되었기 때문에 영업을 종료합니다.\n"
          ]
        }
      ]
    },
    {
      "cell_type": "code",
      "source": [
        "# 중첩 반복문에서 바로 위에 반복문만 탈출\n",
        "for i in range(2, 10):\n",
        "    for j in range(1, 10):\n",
        "        if j > 5:\n",
        "            break\n",
        "        print(f'{i} X {j} = {i*j}')"
      ],
      "metadata": {
        "colab": {
          "base_uri": "https://localhost:8080/"
        },
        "id": "X7RJx95IYRru",
        "outputId": "cbe4bdbd-2ee9-499e-bd0e-38b62c9f6d9d"
      },
      "execution_count": null,
      "outputs": [
        {
          "output_type": "stream",
          "name": "stdout",
          "text": [
            "2 X 1 = 2\n",
            "2 X 2 = 4\n",
            "2 X 3 = 6\n",
            "2 X 4 = 8\n",
            "2 X 5 = 10\n",
            "3 X 1 = 3\n",
            "3 X 2 = 6\n",
            "3 X 3 = 9\n",
            "3 X 4 = 12\n",
            "3 X 5 = 15\n",
            "4 X 1 = 4\n",
            "4 X 2 = 8\n",
            "4 X 3 = 12\n",
            "4 X 4 = 16\n",
            "4 X 5 = 20\n",
            "5 X 1 = 5\n",
            "5 X 2 = 10\n",
            "5 X 3 = 15\n",
            "5 X 4 = 20\n",
            "5 X 5 = 25\n",
            "6 X 1 = 6\n",
            "6 X 2 = 12\n",
            "6 X 3 = 18\n",
            "6 X 4 = 24\n",
            "6 X 5 = 30\n",
            "7 X 1 = 7\n",
            "7 X 2 = 14\n",
            "7 X 3 = 21\n",
            "7 X 4 = 28\n",
            "7 X 5 = 35\n",
            "8 X 1 = 8\n",
            "8 X 2 = 16\n",
            "8 X 3 = 24\n",
            "8 X 4 = 32\n",
            "8 X 5 = 40\n",
            "9 X 1 = 9\n",
            "9 X 2 = 18\n",
            "9 X 3 = 27\n",
            "9 X 4 = 36\n",
            "9 X 5 = 45\n"
          ]
        }
      ]
    },
    {
      "cell_type": "markdown",
      "source": [
        "# 4. continue, pass\n",
        "continue와 pass는 구분해서 사용을 해야 하니 차이점을 잘 정리해 두세요.\n",
        "- continue(계속하다) : 반복문이 실행하는 코드 블록의 나머지 부분을 실행하지 않고 다음 반복으로 건너가게 흐름을 조정합니다.\n",
        "\n",
        "  반복문 순회 도중 continue문을 만날 시 continue문은 이후의 나머지 반복문 내부 코드 블록을 실행하지 않고 다음 아이템을 선택하여 반복문의 내부 코드 블록 시작 부분으로 이동<br>\n",
        "  break와 마찬가지로 조건이 없이 continue를 사용하는 것은 큰 의미가 없으므로 주로 조건문을 달아 사용\n",
        "- pass(지나치다) : 단순히 실행할 코드가 없다는 것을 의미 -> 아무런 동작을 하지 않고 다음 코드를 실행"
      ],
      "metadata": {
        "id": "zCigYmb2YXBL"
      }
    },
    {
      "cell_type": "code",
      "source": [
        "# 예제1(while)\n",
        "while 조건:\n",
        "    반복 실행할 코드\n",
        "    continue #while 다음 반복문 수행\n",
        "    반복 실행할 코드 # continue 사용시 무시되는 코드\n",
        "    \n",
        "# 예제2(for)\n",
        "for 변수 in 범위:\n",
        "    반복 실행할 코드\n",
        "    continue #for 다음 반복문 수행\n",
        "    반복 실행할 코드 # continue 사용시 무시되는 코드"
      ],
      "metadata": {
        "id": "moz8Z2aZYYYZ"
      },
      "execution_count": null,
      "outputs": []
    },
    {
      "cell_type": "code",
      "source": [
        "# 예제1(while)\n",
        "while 조건:\n",
        "    반복 실행할 코드\n",
        "    if 조건 :\n",
        "        continue #while 다음 반복문 수행\n",
        "    반복 실행할 코드 # continue 사용시 무시되는 코드\n",
        "\n",
        "# 예제2(for)\n",
        "for 변수 in 범위:\n",
        "    반복 실행할 코드\n",
        "    if 조건:\n",
        "        continue # for 다음 반복문 수행\n",
        "    반복 실행할 코드 # continue 사용시 무시되는 코드"
      ],
      "metadata": {
        "id": "6CDsfcHyYemB"
      },
      "execution_count": null,
      "outputs": []
    },
    {
      "cell_type": "code",
      "source": [
        "#continue\n",
        "구매개수_총가격= [\n",
        "    (3, 15000),\n",
        "    (5, 25000),\n",
        "    (1, 5000),\n",
        "    (8, 40000),\n",
        "    (0, 0),\n",
        "    (2, 10000)\n",
        "]\n",
        "\n",
        "for 구매개수, 총가격 in 구매개수_총가격:\n",
        "    if 구매개수 < 1:\n",
        "        continue # 다음 반복으로 넘어감\n",
        "    print('구매개수는 {}개이며 {}원입니다.'.format(구매개수, 총가격))"
      ],
      "metadata": {
        "colab": {
          "base_uri": "https://localhost:8080/"
        },
        "id": "IAb1ykATYiIx",
        "outputId": "87ec0def-97d0-49a6-b791-a23a3e579320"
      },
      "execution_count": null,
      "outputs": [
        {
          "output_type": "stream",
          "name": "stdout",
          "text": [
            "구매개수는 3개이며 15000원입니다.\n",
            "구매개수는 5개이며 25000원입니다.\n",
            "구매개수는 1개이며 5000원입니다.\n",
            "구매개수는 8개이며 40000원입니다.\n",
            "구매개수는 2개이며 10000원입니다.\n"
          ]
        }
      ]
    },
    {
      "cell_type": "code",
      "source": [
        "#pass\n",
        "구매개수_총가격= [\n",
        "    (3, 15000),\n",
        "    (5, 25000),\n",
        "    (1, 5000),\n",
        "    (8, 40000),\n",
        "    (0, 0),\n",
        "    (2, 10000)\n",
        "    ]\n",
        "for 구매개수, 총가격 in 구매개수_총가격:\n",
        "    if 구매개수 < 1:\n",
        "        pass # 그냥 지나쳐 아래 코드 실행\n",
        "    print('구매개수는 {}개이며 {}원입니다.'.format(구매개수, 총가격))"
      ],
      "metadata": {
        "colab": {
          "base_uri": "https://localhost:8080/"
        },
        "id": "aKYXcrJRYmSZ",
        "outputId": "b37f3abd-31cb-4ae2-d206-e1a365c7620b"
      },
      "execution_count": null,
      "outputs": [
        {
          "output_type": "stream",
          "name": "stdout",
          "text": [
            "구매개수는 3개이며 15000원입니다.\n",
            "구매개수는 5개이며 25000원입니다.\n",
            "구매개수는 1개이며 5000원입니다.\n",
            "구매개수는 8개이며 40000원입니다.\n",
            "구매개수는 0개이며 0원입니다.\n",
            "구매개수는 2개이며 10000원입니다.\n"
          ]
        }
      ]
    },
    {
      "cell_type": "markdown",
      "source": [
        "# 5. else\n",
        "반복문의 else는 if에서의 else처럼 '그렇지 않으면'이라는 의미 보다는 '그런 다음'이라는 의미가 더 강하기 때문에 than으로 쓰여야 된다는 논의가 있었습니다.<br>\n",
        "반복문이 break 등에 의해 중단없이 정상적으로 반복이 종료된 후 특정 코드를 실행하게 해야할 때 while ~ else, for ~ else를 사용할 수 있습니다. "
      ],
      "metadata": {
        "id": "UK3QS6pMYqWk"
      }
    },
    {
      "cell_type": "code",
      "source": [
        "while 조건:\n",
        "\t반복 실행할 코드\n",
        "else:\n",
        "\twhile 반복문이 모두 실행되어 종료되고 실행할 코드"
      ],
      "metadata": {
        "id": "64UH5AohYv1C"
      },
      "execution_count": null,
      "outputs": []
    },
    {
      "cell_type": "code",
      "source": [
        "for 변수 in 범위:\n",
        "\t반복 실행할 코드\n",
        "else:\n",
        "\tfor 반복문이 모두 실행되어 종료되고 실행할 코드"
      ],
      "metadata": {
        "id": "2t05A3hTY1AP"
      },
      "execution_count": null,
      "outputs": []
    },
    {
      "cell_type": "code",
      "source": [
        "#for, else문\n",
        "# break문 없이 정상 종료되었을 때에는 else문이 실행\n",
        "for i in range(5, 0, -1):\n",
        "    print(\"고등어 \", i, \" 개 남았습니다.\")\n",
        "else:\n",
        "    print('고등어 다 팔렸습니다.')"
      ],
      "metadata": {
        "colab": {
          "base_uri": "https://localhost:8080/"
        },
        "id": "HhQ1_Xr6Y2al",
        "outputId": "f2b1bb86-e2c6-4f95-c2f1-79fccb95de10"
      },
      "execution_count": null,
      "outputs": [
        {
          "output_type": "stream",
          "name": "stdout",
          "text": [
            "고등어  5  개 남았습니다.\n",
            "고등어  4  개 남았습니다.\n",
            "고등어  3  개 남았습니다.\n",
            "고등어  2  개 남았습니다.\n",
            "고등어  1  개 남았습니다.\n",
            "고등어 다 팔렸습니다.\n"
          ]
        }
      ]
    },
    {
      "cell_type": "code",
      "source": [
        "# break문이 있을 때\n",
        "# break문에 걸릴 때는 else문을 실행하지 않음\n",
        "for i in range(5, 0, -1):\n",
        "    print(\"고등어 \", i, \" 개 남았습니다.\")\n",
        "    if i == 1:\n",
        "        break\n",
        "else:\n",
        "    print('고등어 다 팔렸습니다.')"
      ],
      "metadata": {
        "colab": {
          "base_uri": "https://localhost:8080/"
        },
        "id": "_uR8z7jlY5R6",
        "outputId": "4568bf41-ba8e-4a3d-842a-4f6b3af18b5c"
      },
      "execution_count": null,
      "outputs": [
        {
          "output_type": "stream",
          "name": "stdout",
          "text": [
            "고등어  5  개 남았습니다.\n",
            "고등어  4  개 남았습니다.\n",
            "고등어  3  개 남았습니다.\n",
            "고등어  2  개 남았습니다.\n",
            "고등어  1  개 남았습니다.\n"
          ]
        }
      ]
    },
    {
      "cell_type": "code",
      "source": [
        "if 조건:\n",
        "\t조건이 참일 경우 실행문\n",
        "else:\n",
        "\t조건이 거짓 일 경우 실행문"
      ],
      "metadata": {
        "id": "tZ1Dh2CcY9Gf"
      },
      "execution_count": null,
      "outputs": []
    },
    {
      "cell_type": "code",
      "source": [
        "i = 2\n",
        "if i < 4:\n",
        "    print('i는 4보다 작습니다')\n",
        "else:\n",
        "    print(\"i는 4보다 크거나 같습니다\")"
      ],
      "metadata": {
        "colab": {
          "base_uri": "https://localhost:8080/"
        },
        "id": "1x9AaI9mY-8J",
        "outputId": "b284220a-d01b-4cbb-9a16-67220546de92"
      },
      "execution_count": null,
      "outputs": [
        {
          "output_type": "stream",
          "name": "stdout",
          "text": [
            "i는 4보다 작습니다\n"
          ]
        }
      ]
    },
    {
      "cell_type": "code",
      "source": [
        "# try ~ except ~ else문 : else는 예외가 발생하지 않을 때 사용\n",
        "try:\n",
        "\t실행문\n",
        "except:\n",
        "\t예외 발생 시 처리문\n",
        "else:\n",
        "\t예외 발생하지 않을 경우 실행문"
      ],
      "metadata": {
        "id": "ECsDlm6wZCqd"
      },
      "execution_count": null,
      "outputs": []
    },
    {
      "cell_type": "code",
      "source": [
        "try:\n",
        "    i = 1\n",
        "    j = 1 #0\n",
        "    x = i/j\n",
        "except:\n",
        "    print(\"error\")\n",
        "else:\n",
        "    print(x)"
      ],
      "metadata": {
        "colab": {
          "base_uri": "https://localhost:8080/"
        },
        "id": "oUx6MwzJZHPc",
        "outputId": "1093c907-2600-49ae-838c-2327f11094dc"
      },
      "execution_count": null,
      "outputs": [
        {
          "output_type": "stream",
          "name": "stdout",
          "text": [
            "1.0\n"
          ]
        }
      ]
    },
    {
      "cell_type": "markdown",
      "source": [
        "# 6. 중첩 반복문\n",
        "반복문 내부에 또 다른 반복문이 있을 경우, 중첩되었다고 말함 <br>\n",
        "중첩 반복문 : 반복문 안에 반복문이 들어가 중첩된 것 <br>\n",
        "중첩 반복문에서는 종료되는 값을 항상 확인하세요.\n"
      ],
      "metadata": {
        "id": "m4xfU82YZLmz"
      }
    },
    {
      "cell_type": "code",
      "source": [
        "i = 2\n",
        "while i < 10 : # 구구단의 단\n",
        "    k = 1 # k 초기화\n",
        "    while k < 10: # 순차적으로 반복될 곱의 수\n",
        "        print(i, \" * \", k, \" = \", i * k)\n",
        "        k += 1 # 반복할 때마다 반복될 곱의 수에 1을 더함\n",
        "    i += 1"
      ],
      "metadata": {
        "colab": {
          "base_uri": "https://localhost:8080/"
        },
        "id": "HMviNxiDZVxC",
        "outputId": "33167c75-e8dd-4be7-f33e-5c3127ecf17c"
      },
      "execution_count": null,
      "outputs": [
        {
          "output_type": "stream",
          "name": "stdout",
          "text": [
            "2  *  1  =  2\n",
            "2  *  2  =  4\n",
            "2  *  3  =  6\n",
            "2  *  4  =  8\n",
            "2  *  5  =  10\n",
            "2  *  6  =  12\n",
            "2  *  7  =  14\n",
            "2  *  8  =  16\n",
            "2  *  9  =  18\n",
            "3  *  1  =  3\n",
            "3  *  2  =  6\n",
            "3  *  3  =  9\n",
            "3  *  4  =  12\n",
            "3  *  5  =  15\n",
            "3  *  6  =  18\n",
            "3  *  7  =  21\n",
            "3  *  8  =  24\n",
            "3  *  9  =  27\n",
            "4  *  1  =  4\n",
            "4  *  2  =  8\n",
            "4  *  3  =  12\n",
            "4  *  4  =  16\n",
            "4  *  5  =  20\n",
            "4  *  6  =  24\n",
            "4  *  7  =  28\n",
            "4  *  8  =  32\n",
            "4  *  9  =  36\n",
            "5  *  1  =  5\n",
            "5  *  2  =  10\n",
            "5  *  3  =  15\n",
            "5  *  4  =  20\n",
            "5  *  5  =  25\n",
            "5  *  6  =  30\n",
            "5  *  7  =  35\n",
            "5  *  8  =  40\n",
            "5  *  9  =  45\n",
            "6  *  1  =  6\n",
            "6  *  2  =  12\n",
            "6  *  3  =  18\n",
            "6  *  4  =  24\n",
            "6  *  5  =  30\n",
            "6  *  6  =  36\n",
            "6  *  7  =  42\n",
            "6  *  8  =  48\n",
            "6  *  9  =  54\n",
            "7  *  1  =  7\n",
            "7  *  2  =  14\n",
            "7  *  3  =  21\n",
            "7  *  4  =  28\n",
            "7  *  5  =  35\n",
            "7  *  6  =  42\n",
            "7  *  7  =  49\n",
            "7  *  8  =  56\n",
            "7  *  9  =  63\n",
            "8  *  1  =  8\n",
            "8  *  2  =  16\n",
            "8  *  3  =  24\n",
            "8  *  4  =  32\n",
            "8  *  5  =  40\n",
            "8  *  6  =  48\n",
            "8  *  7  =  56\n",
            "8  *  8  =  64\n",
            "8  *  9  =  72\n",
            "9  *  1  =  9\n",
            "9  *  2  =  18\n",
            "9  *  3  =  27\n",
            "9  *  4  =  36\n",
            "9  *  5  =  45\n",
            "9  *  6  =  54\n",
            "9  *  7  =  63\n",
            "9  *  8  =  72\n",
            "9  *  9  =  81\n"
          ]
        }
      ]
    },
    {
      "cell_type": "code",
      "source": [
        "for i in range(2,10):\n",
        "    print(\"---{0}단---\".format(i))\n",
        "    for k in range(1,10): # k의 값이 for문 안에서 자동으로 초기화\n",
        "        print(i,\"*\",k,\"=\",i*k)"
      ],
      "metadata": {
        "colab": {
          "base_uri": "https://localhost:8080/"
        },
        "id": "S4DoMPlZZcYO",
        "outputId": "3c61810f-8756-42cc-ab6f-ce9c69e9ffa6"
      },
      "execution_count": null,
      "outputs": [
        {
          "output_type": "stream",
          "name": "stdout",
          "text": [
            "---2단---\n",
            "2 * 1 = 2\n",
            "2 * 2 = 4\n",
            "2 * 3 = 6\n",
            "2 * 4 = 8\n",
            "2 * 5 = 10\n",
            "2 * 6 = 12\n",
            "2 * 7 = 14\n",
            "2 * 8 = 16\n",
            "2 * 9 = 18\n",
            "---3단---\n",
            "3 * 1 = 3\n",
            "3 * 2 = 6\n",
            "3 * 3 = 9\n",
            "3 * 4 = 12\n",
            "3 * 5 = 15\n",
            "3 * 6 = 18\n",
            "3 * 7 = 21\n",
            "3 * 8 = 24\n",
            "3 * 9 = 27\n",
            "---4단---\n",
            "4 * 1 = 4\n",
            "4 * 2 = 8\n",
            "4 * 3 = 12\n",
            "4 * 4 = 16\n",
            "4 * 5 = 20\n",
            "4 * 6 = 24\n",
            "4 * 7 = 28\n",
            "4 * 8 = 32\n",
            "4 * 9 = 36\n",
            "---5단---\n",
            "5 * 1 = 5\n",
            "5 * 2 = 10\n",
            "5 * 3 = 15\n",
            "5 * 4 = 20\n",
            "5 * 5 = 25\n",
            "5 * 6 = 30\n",
            "5 * 7 = 35\n",
            "5 * 8 = 40\n",
            "5 * 9 = 45\n",
            "---6단---\n",
            "6 * 1 = 6\n",
            "6 * 2 = 12\n",
            "6 * 3 = 18\n",
            "6 * 4 = 24\n",
            "6 * 5 = 30\n",
            "6 * 6 = 36\n",
            "6 * 7 = 42\n",
            "6 * 8 = 48\n",
            "6 * 9 = 54\n",
            "---7단---\n",
            "7 * 1 = 7\n",
            "7 * 2 = 14\n",
            "7 * 3 = 21\n",
            "7 * 4 = 28\n",
            "7 * 5 = 35\n",
            "7 * 6 = 42\n",
            "7 * 7 = 49\n",
            "7 * 8 = 56\n",
            "7 * 9 = 63\n",
            "---8단---\n",
            "8 * 1 = 8\n",
            "8 * 2 = 16\n",
            "8 * 3 = 24\n",
            "8 * 4 = 32\n",
            "8 * 5 = 40\n",
            "8 * 6 = 48\n",
            "8 * 7 = 56\n",
            "8 * 8 = 64\n",
            "8 * 9 = 72\n",
            "---9단---\n",
            "9 * 1 = 9\n",
            "9 * 2 = 18\n",
            "9 * 3 = 27\n",
            "9 * 4 = 36\n",
            "9 * 5 = 45\n",
            "9 * 6 = 54\n",
            "9 * 7 = 63\n",
            "9 * 8 = 72\n",
            "9 * 9 = 81\n"
          ]
        }
      ]
    }
  ]
}