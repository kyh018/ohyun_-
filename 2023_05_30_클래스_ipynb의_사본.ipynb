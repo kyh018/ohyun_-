{
  "nbformat": 4,
  "nbformat_minor": 0,
  "metadata": {
    "colab": {
      "provenance": [],
      "toc_visible": true,
      "include_colab_link": true
    },
    "kernelspec": {
      "name": "python3",
      "display_name": "Python 3"
    },
    "language_info": {
      "name": "python"
    }
  },
  "cells": [
    {
      "cell_type": "markdown",
      "metadata": {
        "id": "view-in-github",
        "colab_type": "text"
      },
      "source": [
        "<a href=\"https://colab.research.google.com/github/kyh018/ohyun_basic-coding/blob/main/2023_05_30_%ED%81%B4%EB%9E%98%EC%8A%A4_ipynb%EC%9D%98_%EC%82%AC%EB%B3%B8.ipynb\" target=\"_parent\"><img src=\"https://colab.research.google.com/assets/colab-badge.svg\" alt=\"Open In Colab\"/></a>"
      ]
    },
    {
      "cell_type": "code",
      "source": [
        "result = 0\n",
        "def add(num):\n",
        "  global result\n",
        "\n",
        "  result+=num\n",
        "  return result\n",
        "\n",
        "print(add(3))\n",
        "print(add(4))"
      ],
      "metadata": {
        "colab": {
          "base_uri": "https://localhost:8080/"
        },
        "id": "DWi06QdIZmcU",
        "outputId": "942ac851-941c-4b77-9f07-daf97bcc3e34"
      },
      "execution_count": 1,
      "outputs": [
        {
          "output_type": "stream",
          "name": "stdout",
          "text": [
            "3\n",
            "7\n"
          ]
        }
      ]
    },
    {
      "cell_type": "markdown",
      "source": [
        "# 1. 클래스\n",
        "파이썬은 대표적인 객체지향 프로그래밍 언어이며 클래스는 일종의 설계도면입니다.<br>\n",
        "클래스(설계도면)을 보며 데이터(멤버)와 기능(메서드)을 가지고 있는 하나의 인스턴스 객체를 생성하기 위한 역할을 한다.<br>\n",
        "그 인스턴스 객체를 선언하여 사용할 수 있다."
      ],
      "metadata": {
        "id": "PWZ6eSmxoO6s"
      }
    },
    {
      "cell_type": "code",
      "execution_count": null,
      "metadata": {
        "colab": {
          "base_uri": "https://localhost:8080/"
        },
        "id": "R6U-yPeFn9sj",
        "outputId": "86ef3464-93f2-4112-b35b-0f16a5c3c0e7"
      },
      "outputs": [
        {
          "output_type": "stream",
          "name": "stdout",
          "text": [
            "10 의 스피드로 움직이고 있습니다.\n",
            "멈췄습니다.\n",
            "5 의 스피드로 움직이고 있습니다.\n",
            "멈췄습니다.\n",
            "300\n",
            "300\n"
          ]
        }
      ],
      "source": [
        "# 클래스 생성\n",
        "# 클래스 명의 앞 부분을 대문자로 사용\n",
        "class Car(object): \n",
        "\tMaxSpeed = 300\n",
        "\tMaxPeople = 5\n",
        "\t\n",
        "\t# 메서드 : 클래스 안에 구현된 함수\n",
        "\tdef move(self, x): # move 메서드\n",
        "\t\tprint(x, '의 스피드로 움직이고 있습니다.')\n",
        "\t\n",
        "\tdef stop(self): # stop 메서드\n",
        "\t\tprint('멈췄습니다.')\n",
        "\n",
        "# 객체 생성\n",
        "k5 = Car() # 객체 : k5\n",
        "k3 = Car() # 객체 : k3\n",
        "\n",
        "# 객체를 통해 메서드 호출\n",
        "k5.move(10) \n",
        "k5.stop()\n",
        "k3.move(5)\n",
        "k3.stop()\n",
        "\n",
        "print(k5.MaxSpeed)\n",
        "print(k3.MaxSpeed)"
      ]
    },
    {
      "cell_type": "markdown",
      "source": [
        "## 1.1 클래스 변수\n",
        "클래스 바로 하위에 자리하고 있는 변수들로 클래스를 통해 만들어진 모든 인스턴스 객체들이 공유하는 변수 값<br>\n",
        "클래스 이름을 통해서 접근 가능\n",
        "\n",
        "⚠️ 변수 이름으로 접근하지 않는다"
      ],
      "metadata": {
        "id": "xsSVyWQooLYq"
      }
    },
    {
      "cell_type": "code",
      "source": [
        "class Car(object):\n",
        "\t# 클래스 변수\n",
        "\tkinds = []\n",
        "\tMaxSpeed = 300\n",
        "\tMaxPeople = 5\n",
        "\t\n",
        "\tdef move(self, x):\n",
        "\t\tprint(x, '의 스피드로 움직이고 있습니다.')\n",
        "\tdef stop(self):\n",
        "\t\tprint('멈췄습니다.')\n",
        "\n",
        "# 어떤 인스턴스가 만들어졌는지 확인하기 위해\n",
        "# 인스턴스를 생성 시, Car.kinds 배열에 어떤 자동차가 추가되었는지를 표시\n",
        "k5 = Car()\n",
        "Car.kinds.append('k5')\n",
        "k3 = Car()\n",
        "Car.kinds.append('k3')\n",
        "\n",
        "print(k5.kinds)"
      ],
      "metadata": {
        "colab": {
          "base_uri": "https://localhost:8080/"
        },
        "id": "HEPqbHMXoS8h",
        "outputId": "82bde0df-3d8c-4d9b-f98a-1a2e81a2e26f"
      },
      "execution_count": null,
      "outputs": [
        {
          "output_type": "stream",
          "name": "stdout",
          "text": [
            "['k5', 'k3']\n"
          ]
        }
      ]
    },
    {
      "cell_type": "code",
      "source": [
        "class Car(object):\n",
        "\t# 클래스 변수\n",
        "\tkinds = []\n",
        "\tspeed = 300\n",
        "\t\n",
        "\tdef add_kinds(self, name):\n",
        "\t\tself.kinds.append(name)\n",
        "\tdef change_speed(self, speed):\n",
        "\t\tself.speed = speed\n",
        "\n",
        "k5 = Car()\n",
        "k3 = Car()\n",
        "k5.add_kinds('k5')\n",
        "k3.add_kinds('k3')\n",
        "k5.change_speed(500)\n",
        "k3.change_speed(250)\n",
        "\n",
        "print('k5.kinds:', k5.kinds)\n",
        "print('k3.kinds:', k3.kinds)\n",
        "print('k5.speed:', k5.speed)\n",
        "print('k3.speed:', k3.speed)"
      ],
      "metadata": {
        "colab": {
          "base_uri": "https://localhost:8080/"
        },
        "id": "1szkw2IXoXG5",
        "outputId": "4ab99557-6f77-43af-dd1d-21d02debbebb"
      },
      "execution_count": null,
      "outputs": [
        {
          "output_type": "stream",
          "name": "stdout",
          "text": [
            "k5.kinds: ['k5', 'k3']\n",
            "k3.kinds: ['k5', 'k3']\n",
            "k5.speed: 500\n",
            "k3.speed: 250\n"
          ]
        }
      ]
    },
    {
      "cell_type": "markdown",
      "source": [
        "# 2. __init__ 함수\n",
        "일일이 메서드를 호출해서 하는 것은 너무 불편하고 실수가 생길 수 밖에 없는 작업<br>\n",
        "이런 불편을 해소하기 위해 `__init__` 메서드를 사용 <br>\n",
        "언더바(`_`)가 앞 뒤로 2개씩 달린 함수를 메직 메서드라고 함<br>\n",
        "<br>\n",
        "`__init__` 메서드<br>\n",
        "- 다른 프로그래밍 언어에서의 생성자(`constructor`) 역할을 하는 클래스 메서드\n",
        "- 인스턴스 객체를 생성할 때 자동으로 실행"
      ],
      "metadata": {
        "id": "d84-8TqtoctA"
      }
    },
    {
      "cell_type": "markdown",
      "source": [
        "## 2.1 인스턴스 변수\n",
        "- 클래스 변수 : 인스턴스 객체들이 모두가 공통으로 공유하는 값\n",
        "- 인스턴스 변수 : 각 인스턴스 객체들 각자가 가지고 있는 값\n",
        "\n",
        "인스턴스 변수는 **init** 메서드 안에서 선언 <br>\n",
        "이곳에서 선언된 변수들은 각 인스턴스 객체들의 변수로 사용가능"
      ],
      "metadata": {
        "id": "LfxttYftofR6"
      }
    },
    {
      "cell_type": "code",
      "source": [
        "class Car(object):\n",
        "\tMaxSpeed = 300 # 공유하는 영역\n",
        "\tMaxPeoeple = 5 # 공유하는 영역\n",
        "\n",
        "\tdef __init__(self, 이름): #self는 자신만의 영역\n",
        "\t\tself.name = 이름\n",
        "\n",
        "\tdef move(self, x):\n",
        "\t\tprint(self.name, x, '의 스피드로 움직이고 있습니다.')\n",
        "\n",
        "\tdef stop(self):\n",
        "\t\tprint('멈췄습니다.')\n",
        "\n",
        "k5 = Car('케이파이브')\n",
        "k3 = Car('케이쓰리')\n",
        "\n",
        "k5.move(100)\n",
        "k3.move(200)\n"
      ],
      "metadata": {
        "colab": {
          "base_uri": "https://localhost:8080/"
        },
        "id": "NjyqiqycoaV8",
        "outputId": "66a30f54-f3b5-4242-f889-e6c7c0f9ff21"
      },
      "execution_count": null,
      "outputs": [
        {
          "output_type": "stream",
          "name": "stdout",
          "text": [
            "케이파이브 100 의 스피드로 움직이고 있습니다.\n",
            "케이쓰리 200 의 스피드로 움직이고 있습니다.\n"
          ]
        }
      ]
    },
    {
      "cell_type": "markdown",
      "source": [
        "**self 란?**\n",
        "- self의 영역은 다른 인스턴스에 해당 변수를 공유하지 않는 고유 영역"
      ],
      "metadata": {
        "id": "UKoQq0RxomYk"
      }
    },
    {
      "cell_type": "markdown",
      "source": [
        "# 3. 특별 메소드(magic method)\n",
        "파이썬의 클래스에는 기본적으로 내장하고 있는 특별 메소드들이 있다.<br>\n",
        "파이썬에서는 이런 내장하고 있는 특별 메소드들을 쉽게 재정의하여 사용할 수 있다.<br>\n",
        "매직 메소드 혹은 더블 언더바(__)를 쓰고 있는 점에서 줄여서 던더(dunder) 메소드라고도 부릅니다."
      ],
      "metadata": {
        "id": "UCOlyr8gopNv"
      }
    },
    {
      "cell_type": "code",
      "source": [
        "class Car(object):\n",
        "    kinds = []\n",
        "    MaxSpeed = 300\n",
        "    MaxPeoeple = 5\n",
        "\n",
        "    def __init__(self, 이름):\n",
        "        self.name = 이름\n",
        "        self.kinds.append(이름)\n",
        "        \n",
        "    def move(self, x):\n",
        "        print(self.name, x, '의 스피드로 움직이고 있습니다.')\n",
        "        print(self.kinds)\n",
        "        self.stop()\n",
        "\n",
        "    def stop(self):\n",
        "        print('멈췄습니다.')\n",
        "\n",
        "k5 = Car('케이파이브')\n",
        "k5.move(100)\n",
        "k3 = Car('케이쓰리')\n",
        "k3.move(200)"
      ],
      "metadata": {
        "colab": {
          "base_uri": "https://localhost:8080/"
        },
        "id": "7SdKUpVXotPe",
        "outputId": "ee5bb782-94c4-4f11-b3c9-3c9b8953260d"
      },
      "execution_count": null,
      "outputs": [
        {
          "output_type": "stream",
          "name": "stdout",
          "text": [
            "케이파이브 100 의 스피드로 움직이고 있습니다.\n",
            "['케이파이브']\n",
            "멈췄습니다.\n",
            "케이쓰리 200 의 스피드로 움직이고 있습니다.\n",
            "['케이파이브', '케이쓰리']\n",
            "멈췄습니다.\n"
          ]
        }
      ]
    },
    {
      "cell_type": "markdown",
      "source": [
        "- 클래스를 정의한 블록 내에서 존재하는 클래스 속성과 메서드는 클래스 네임 스페이스(변수가 객체를 바인딩할 때 그 둘 사이의 관계를 저장하고 있는 공간)에 등록\n",
        "- 인스턴스 속성은 `__init__`메서드 내에서  `self.이름`을 주고 할당이 되는 경우에만 인스턴스 네임 스페이스에 등록"
      ],
      "metadata": {
        "id": "Ih3XAVMTov3A"
      }
    },
    {
      "cell_type": "code",
      "source": [
        "class Car(object):\n",
        "    kinds = []\n",
        "    MaxSpeed = 300\n",
        "    MaxPeoeple = 5\n",
        "\n",
        "    def __init__(self, 이름):\n",
        "        self.name = 이름\n",
        "        self.kinds.append(이름)\n",
        "\n",
        "    # 기본 매직 메서드\n",
        "    def __add__(self, obj): #obj : 더할 요소\n",
        "\t\t\t\t# 더하기를 정의하고 있는 기본 매직메서드\n",
        "        return 'hello world'\n",
        "\n",
        "    def move(self, x):\n",
        "        print(self.name, x, '의 스피드로 움직이고 있습니다.')\n",
        "        print(self.kinds)\n",
        "        self.stop()\n",
        "\n",
        "    def stop(self):\n",
        "        print('멈췄습니다.')\n",
        "\n",
        "k5 = Car('케이파이브')\n",
        "k3 = Car('케이쓰리')\n",
        "print(k5 + k3)"
      ],
      "metadata": {
        "colab": {
          "base_uri": "https://localhost:8080/"
        },
        "id": "6ZaZnp7IoyRL",
        "outputId": "c498ae11-44f7-48d0-e0aa-6f1a6588facf"
      },
      "execution_count": null,
      "outputs": [
        {
          "output_type": "stream",
          "name": "stdout",
          "text": [
            "hello world\n"
          ]
        }
      ]
    },
    {
      "cell_type": "code",
      "source": [
        "class Car(object):\n",
        "    kinds = []\n",
        "    MaxSpeed = 300\n",
        "    MaxPeoeple = 5\n",
        "\n",
        "    def __init__(self, 이름):\n",
        "        self.name = 이름\n",
        "        self.kinds.append(이름)\n",
        "\n",
        "    def __add__(self, obj):#obj : 더할 요소\n",
        "\t\t\t\t# 더하기를 정의하고 있는 기본 매직메서드\n",
        "        return 'hello world', obj.name\n",
        "\n",
        "    def __str__(self): #자신의 이름(제목)을 알려주는 매직 메서드\n",
        "        return self.name\n",
        "\n",
        "    def move(self, x):\n",
        "        print(self.name, x, '의 스피드로 움직이고 있습니다.')\n",
        "        print(self.kinds)\n",
        "        self.stop()\n",
        "\n",
        "    def stop(self):\n",
        "        print('멈췄습니다.')\n",
        "\n",
        "k5 = Car('케이파이브')\n",
        "k3 = Car('케이쓰리')\n",
        "\n",
        "print(k5 + k3)\n",
        "print(k5)"
      ],
      "metadata": {
        "colab": {
          "base_uri": "https://localhost:8080/"
        },
        "id": "bArjQ-3Xo2mz",
        "outputId": "cc082dbd-4867-4ee9-a98e-27b43c4f3a4c"
      },
      "execution_count": null,
      "outputs": [
        {
          "output_type": "stream",
          "name": "stdout",
          "text": [
            "('hello world', '케이쓰리')\n",
            "케이파이브\n"
          ]
        }
      ]
    },
    {
      "cell_type": "code",
      "source": [
        "class Car(object):\n",
        "    kinds = []\n",
        "    MaxSpeed = 300\n",
        "    MaxPeoeple = 5\n",
        "\n",
        "    def __init__(self, 이름):\n",
        "        self.name = 이름\n",
        "        self.kinds.append(이름)\n",
        "\n",
        "    def __add__(self, obj):#obj : 더할 요소\n",
        "\t\t\t\t# 더하기를 정의하고 있는 기본 매직메서드\n",
        "        return 'hello world', obj.name\n",
        "\n",
        "    def __str__(self): #제목을 알려줍니다.\n",
        "        return self.name\n",
        "\n",
        "    def move(self, x):\n",
        "        print(self.name, x, '의 스피드로 움직이고 있습니다.')\n",
        "        print(self.kinds)\n",
        "        self.stop()\n",
        "\n",
        "    def stop(self):\n",
        "        print('멈췄습니다.')\n",
        "    \n",
        "    # 클래스를 직접 써야 할 때 self없이 사용할 수 있는 정적 메서드\n",
        "    @staticmethod #decorator(데코레이터)\n",
        "    def 스피드배속(현재스피드, 배속할스피드):\n",
        "        print(f'현재 {현재스피드 * 배속할스피드}의 스피드로 달리고 있습니다.')\n",
        "\n",
        "Car.스피드배속(100, 2)"
      ],
      "metadata": {
        "colab": {
          "base_uri": "https://localhost:8080/"
        },
        "id": "adBXAbdcpDoI",
        "outputId": "1ff196b2-af2b-4c7b-bee4-62fec74fdea1"
      },
      "execution_count": null,
      "outputs": [
        {
          "output_type": "stream",
          "name": "stdout",
          "text": [
            "현재 200의 스피드로 달리고 있습니다.\n"
          ]
        }
      ]
    },
    {
      "cell_type": "markdown",
      "source": [
        "매직 메서드에 대해 더 알아보고 싶으시면 파이썬 공식 문서를 참고해주세요.\n",
        "\n",
        "([https://docs.python.org/3/reference/datamodel.html](https://docs.python.org/3/reference/datamodel.html))"
      ],
      "metadata": {
        "id": "Ad8Q9YZZpUAE"
      }
    },
    {
      "cell_type": "markdown",
      "source": [
        "# 4. 상속\n",
        "- 클래스를 상속하는 방법은 새로운 클래스의 `()`안에 상속할 클래스명을 적어주는 것\n",
        "- `HybridCar` 클래스는 기존의 `Car` 클래스가 사용하던 데이터와 기능들을 모두 사용할 수 있으며, 추가적인 기능을 만들 수 있다. \n",
        "- `maxPeople` 의 데이터를 새로 덮어씌워 자기 자신만의 클래스 변수를 새로 정의할 수 있다.\n",
        "- 상속을 하는 `Car`를 부모 클래스(슈퍼 클래스)라고 부르고 `HybridCar`를 자식 클래스(서브 클래스)라고 부름"
      ],
      "metadata": {
        "id": "iPgLmWyfpWgB"
      }
    },
    {
      "cell_type": "code",
      "source": [
        "class Car(object):\n",
        "    maxSpeed = 300\n",
        "    maxPeople = 5\n",
        "    \n",
        "    def move(self, x):\n",
        "        print(x, '의 스피드로 달리고 있습니다.')\n",
        "    def stop(self):\n",
        "        print('멈췄습니다.')\n",
        "\n",
        "class HybridCar(Car):\n",
        "    battery = 1000\n",
        "    batteryKM = 300\n",
        "\n",
        "class ElectricCar(HybridCar):\n",
        "    battery = 2000\n",
        "    batteryKM = 600\n",
        "\n",
        "\n",
        "k5 = HybridCar()\n",
        "electricCarK5 = ElectricCar()\n",
        "k5.maxSpeed\n",
        "print(electricCarK5.maxSpeed)\n",
        "print(electricCarK5.battery)"
      ],
      "metadata": {
        "colab": {
          "base_uri": "https://localhost:8080/"
        },
        "id": "Fa40BixJpXZl",
        "outputId": "f3a76616-3432-46d0-8c27-0e6c1008c0eb"
      },
      "execution_count": null,
      "outputs": [
        {
          "output_type": "stream",
          "name": "stdout",
          "text": [
            "300\n",
            "2000\n"
          ]
        }
      ]
    },
    {
      "cell_type": "markdown",
      "source": [
        "# 5. 메서드 오버라이딩\n",
        "같은 이름이나 함수를 덮어 쓰는 것을 메서드 오버라이딩 이라고 합니다."
      ],
      "metadata": {
        "id": "rMzeFmCvpb83"
      }
    },
    {
      "cell_type": "code",
      "source": [
        "class Car(object):\n",
        "    maxSpeed = 300\n",
        "    maxPeople = 5\n",
        "\n",
        "    def move(self, x):\n",
        "        print(x, '의 스피드로 달리고 있습니다.')\n",
        "\n",
        "    def stop(self):\n",
        "        print('멈췄습니다.')\n",
        "\n",
        "class HybridCar(Car):\n",
        "    battery = 1000\n",
        "    batteryKM = 300\n",
        "\n",
        "# move와  battery,  batteryKM를 덮어씀\n",
        "class ElectricCar(HybridCar):\n",
        "    battery = 2000\n",
        "    batteryKM = 600\n",
        "\n",
        "    def move(self, x):\n",
        "        print(self.batteryKM, '만큼 달릴 수 있습니다.')\n",
        "        print(x, '스피드로 달리고 있습니다.')\n",
        "\n",
        "\n",
        "k5 = HybridCar()\n",
        "electricCarK5 = ElectricCar()\n",
        "k5.maxSpeed\n",
        "electricCarK5.maxSpeed\n",
        "electricCarK5.battery\n",
        "electricCarK5.move(10)"
      ],
      "metadata": {
        "colab": {
          "base_uri": "https://localhost:8080/"
        },
        "id": "EmrS1FD_pbfb",
        "outputId": "fc40a963-f94f-41b8-a193-af762f397dda"
      },
      "execution_count": null,
      "outputs": [
        {
          "output_type": "stream",
          "name": "stdout",
          "text": [
            "600 만큼 달릴 수 있습니다.\n",
            "10 스피드로 달리고 있습니다.\n"
          ]
        }
      ]
    },
    {
      "cell_type": "markdown",
      "source": [
        "Python은 메서드 오버로딩을 허용하지 않습니다. <br>\n",
        "메서드 오버로딩은 클래스 내에서 같은 이름의 메소드를 여러 개 선언하여 다양한 아규먼트에 대응할 수 있게 하는 기법을 의미합니다.<br>\n",
        "아래 예시는 나중에 살펴보시길 바랍니다."
      ],
      "metadata": {
        "id": "3ZbjT1kZplXJ"
      }
    },
    {
      "cell_type": "code",
      "source": [
        "x = 10\n",
        "x.__add__ = lambda self, next: 'hello world'\n",
        "x + x # error, 기본타입은 read only 입니다."
      ],
      "metadata": {
        "id": "PTdgyBtkpnna",
        "colab": {
          "base_uri": "https://localhost:8080/",
          "height": 201
        },
        "outputId": "1d015ff0-eae5-4081-ef70-31bf74279eb4"
      },
      "execution_count": null,
      "outputs": [
        {
          "output_type": "error",
          "ename": "AttributeError",
          "evalue": "ignored",
          "traceback": [
            "\u001b[0;31m---------------------------------------------------------------------------\u001b[0m",
            "\u001b[0;31mAttributeError\u001b[0m                            Traceback (most recent call last)",
            "\u001b[0;32m<ipython-input-5-e77d9e277650>\u001b[0m in \u001b[0;36m<cell line: 2>\u001b[0;34m()\u001b[0m\n\u001b[1;32m      1\u001b[0m \u001b[0mx\u001b[0m \u001b[0;34m=\u001b[0m \u001b[0;36m10\u001b[0m\u001b[0;34m\u001b[0m\u001b[0;34m\u001b[0m\u001b[0m\n\u001b[0;32m----> 2\u001b[0;31m \u001b[0mx\u001b[0m\u001b[0;34m.\u001b[0m\u001b[0m__add__\u001b[0m \u001b[0;34m=\u001b[0m \u001b[0;32mlambda\u001b[0m \u001b[0mself\u001b[0m\u001b[0;34m,\u001b[0m \u001b[0mnext\u001b[0m\u001b[0;34m:\u001b[0m \u001b[0;34m'hello world'\u001b[0m\u001b[0;34m\u001b[0m\u001b[0;34m\u001b[0m\u001b[0m\n\u001b[0m\u001b[1;32m      3\u001b[0m \u001b[0mx\u001b[0m \u001b[0;34m+\u001b[0m \u001b[0mx\u001b[0m \u001b[0;31m# error, 기본타입은 read only 입니다.\u001b[0m\u001b[0;34m\u001b[0m\u001b[0;34m\u001b[0m\u001b[0m\n",
            "\u001b[0;31mAttributeError\u001b[0m: 'int' object attribute '__add__' is read-only"
          ]
        }
      ]
    },
    {
      "cell_type": "code",
      "source": [
        "def f():\n",
        "    pass\n",
        "\n",
        "f.__add__ = lambda self, next: 'hello world'\n",
        "f + f # error, 함수는 더하기를 허락하지 않습니다.\n",
        "f.__add__(10, 20)"
      ],
      "metadata": {
        "id": "buDnW-7Xpo2G",
        "colab": {
          "base_uri": "https://localhost:8080/",
          "height": 218
        },
        "outputId": "739926e7-3204-455e-d815-463447c1fe4f"
      },
      "execution_count": null,
      "outputs": [
        {
          "output_type": "error",
          "ename": "TypeError",
          "evalue": "ignored",
          "traceback": [
            "\u001b[0;31m---------------------------------------------------------------------------\u001b[0m",
            "\u001b[0;31mTypeError\u001b[0m                                 Traceback (most recent call last)",
            "\u001b[0;32m<ipython-input-6-e279aac506cc>\u001b[0m in \u001b[0;36m<cell line: 5>\u001b[0;34m()\u001b[0m\n\u001b[1;32m      3\u001b[0m \u001b[0;34m\u001b[0m\u001b[0m\n\u001b[1;32m      4\u001b[0m \u001b[0mf\u001b[0m\u001b[0;34m.\u001b[0m\u001b[0m__add__\u001b[0m \u001b[0;34m=\u001b[0m \u001b[0;32mlambda\u001b[0m \u001b[0mself\u001b[0m\u001b[0;34m,\u001b[0m \u001b[0mnext\u001b[0m\u001b[0;34m:\u001b[0m \u001b[0;34m'hello world'\u001b[0m\u001b[0;34m\u001b[0m\u001b[0;34m\u001b[0m\u001b[0m\n\u001b[0;32m----> 5\u001b[0;31m \u001b[0mf\u001b[0m \u001b[0;34m+\u001b[0m \u001b[0mf\u001b[0m \u001b[0;31m# error, 함수는 더하기를 허락하지 않습니다.\u001b[0m\u001b[0;34m\u001b[0m\u001b[0;34m\u001b[0m\u001b[0m\n\u001b[0m\u001b[1;32m      6\u001b[0m \u001b[0mf\u001b[0m\u001b[0;34m.\u001b[0m\u001b[0m__add__\u001b[0m\u001b[0;34m(\u001b[0m\u001b[0;36m10\u001b[0m\u001b[0;34m,\u001b[0m \u001b[0;36m20\u001b[0m\u001b[0;34m)\u001b[0m\u001b[0;34m\u001b[0m\u001b[0;34m\u001b[0m\u001b[0m\n",
            "\u001b[0;31mTypeError\u001b[0m: unsupported operand type(s) for +: 'function' and 'function'"
          ]
        }
      ]
    },
    {
      "cell_type": "markdown",
      "source": [
        "# 6. 다중 상속\n",
        "여러 클래스를 상속"
      ],
      "metadata": {
        "id": "Y8Jut6GXprso"
      }
    },
    {
      "cell_type": "code",
      "source": [
        "class Car(object):\n",
        "    maxSpeed = 300\n",
        "    maxPeople = 5\n",
        "    def move(self, x):\n",
        "        print(x, '의 스피드로 달리고 있습니다.')\n",
        "    def stop(self):\n",
        "        print('멈췄습니다.')\n",
        "\n",
        "class HybridCar(Car):\n",
        "    battery = 1000\n",
        "    batteryKM = 300\n",
        "\n",
        "class ElectricCar(HybridCar):\n",
        "    battery = 2000\n",
        "    batteryKM = 600\n",
        "    def move(self, x):\n",
        "        print(self.batteryKM, '만큼 달릴 수 있습니다.')\n",
        "        print(x, '스피드로 달리고 있습니다.')\n",
        "\n",
        "class HybridElectricCar(HybridCar, ElectricCar):\n",
        "    pass\n",
        "\n",
        "k5 = HybridElectricCar()\n",
        "print(k5.battery)\n",
        "# Error #MRO : 어떤 클래스를 어떤 순서로 받을것인지의 선택을 말합니다."
      ],
      "metadata": {
        "colab": {
          "base_uri": "https://localhost:8080/",
          "height": 253
        },
        "id": "W93q0zzhpwBr",
        "outputId": "4428c635-9fc1-4e99-a6ad-170ba0afc442"
      },
      "execution_count": null,
      "outputs": [
        {
          "output_type": "error",
          "ename": "TypeError",
          "evalue": "ignored",
          "traceback": [
            "\u001b[0;31m---------------------------------------------------------------------------\u001b[0m",
            "\u001b[0;31mTypeError\u001b[0m                                 Traceback (most recent call last)",
            "\u001b[0;32m<ipython-input-5-e7aecf4db75f>\u001b[0m in \u001b[0;36m<cell line: 20>\u001b[0;34m()\u001b[0m\n\u001b[1;32m     18\u001b[0m         \u001b[0mprint\u001b[0m\u001b[0;34m(\u001b[0m\u001b[0mx\u001b[0m\u001b[0;34m,\u001b[0m \u001b[0;34m'스피드로 달리고 있습니다.'\u001b[0m\u001b[0;34m)\u001b[0m\u001b[0;34m\u001b[0m\u001b[0;34m\u001b[0m\u001b[0m\n\u001b[1;32m     19\u001b[0m \u001b[0;34m\u001b[0m\u001b[0m\n\u001b[0;32m---> 20\u001b[0;31m \u001b[0;32mclass\u001b[0m \u001b[0mHybridElectricCar\u001b[0m\u001b[0;34m(\u001b[0m\u001b[0mHybridCar\u001b[0m\u001b[0;34m,\u001b[0m \u001b[0mElectricCar\u001b[0m\u001b[0;34m)\u001b[0m\u001b[0;34m:\u001b[0m\u001b[0;34m\u001b[0m\u001b[0;34m\u001b[0m\u001b[0m\n\u001b[0m\u001b[1;32m     21\u001b[0m     \u001b[0;32mpass\u001b[0m\u001b[0;34m\u001b[0m\u001b[0;34m\u001b[0m\u001b[0m\n\u001b[1;32m     22\u001b[0m \u001b[0;34m\u001b[0m\u001b[0m\n",
            "\u001b[0;31mTypeError\u001b[0m: Cannot create a consistent method resolution\norder (MRO) for bases HybridCar, ElectricCar"
          ]
        }
      ]
    },
    {
      "cell_type": "code",
      "source": [
        "# 어떤 클래스를 어떤 순서로 정할건지에 대한 정리가 필요\n",
        "class Car(object):\n",
        "    maxSpeed = 300\n",
        "    maxPeople = 5\n",
        "    def move(self, x):\n",
        "        print(x, '의 스피드로 움직이고 있습니다.')\n",
        "    def stop(self):\n",
        "        print('멈췄습니다.')\n",
        "\n",
        "class HybridCar(Car):\n",
        "    battery = 1000\n",
        "    batteryKM = 300\n",
        "\n",
        "class ElectricCar(Car):\n",
        "    battery = 2000\n",
        "    batteryKM = 600\n",
        "    def move(self, x):\n",
        "        print(self.batteryKM, '만큼 달릴 수 있습니다.')\n",
        "        print(x, '스피드로 달리고 있습니다.')\n",
        "        \n",
        "class HybridElectricCar(HybridCar, ElectricCar):\n",
        "    pass\n",
        "\n",
        "k5 = HybridElectricCar()\n",
        "print(k5.battery)"
      ],
      "metadata": {
        "colab": {
          "base_uri": "https://localhost:8080/"
        },
        "id": "-GlZmx_MqX5D",
        "outputId": "b43a9e17-7fba-4849-cbcc-213e460db9be"
      },
      "execution_count": null,
      "outputs": [
        {
          "output_type": "stream",
          "name": "stdout",
          "text": [
            "1000\n"
          ]
        }
      ]
    },
    {
      "cell_type": "code",
      "source": [
        "# HybridElectricCar의 MRO(Method Resolution Order) 출력\n",
        "HybridElectricCar.mro()\n",
        "# [<class '__main__.HybridElectricCar'>, <class '__main__.HybridCar'>, <class '__main__.ElectricCar'>, <class '__main__.Car'>, <class 'object'>]"
      ],
      "metadata": {
        "colab": {
          "base_uri": "https://localhost:8080/"
        },
        "id": "Qym8u4FsqX2q",
        "outputId": "a96f65eb-1ca9-4305-b1bf-1466aec6c6ce"
      },
      "execution_count": null,
      "outputs": [
        {
          "output_type": "execute_result",
          "data": {
            "text/plain": [
              "[__main__.HybridElectricCar,\n",
              " __main__.HybridCar,\n",
              " __main__.ElectricCar,\n",
              " __main__.Car,\n",
              " object]"
            ]
          },
          "metadata": {},
          "execution_count": 14
        }
      ]
    },
    {
      "cell_type": "code",
      "source": [
        "class Car(object):\n",
        "\t  maxSpeed = 300\n",
        "\t  maxPeople = 5\n",
        "\t  def __init__(self, name):\n",
        "\t\t    self.kinds = []\n",
        "\t\t    self.kinds.append(name)\n",
        "\t  def move(self, x):\n",
        "\t\t    print(x, '의 스피드로 움직이고 있습니다.')\n",
        "\t  def stop(self):\n",
        "\t\t    print('멈췄습니다.')\n",
        "\t\n",
        "\n",
        "class MaxWheel(object):\n",
        "\t  wheel = 19\n",
        "\t  def move(self, x):\n",
        "\t\t    print(x, '의 스피드로 큰 차가 이동 중입니다.')\n",
        "\n",
        "class MiniWheel(object):\n",
        "\t  wheel = 15\n",
        "\t  maxSpeed = 250\n",
        "\t  def move(self, x):\n",
        "\t\t    print(x, '의 스피드로 작은 차가 이동 중입니다.')\n",
        "\n",
        "class TestWheel(object):\n",
        "\t  def move(self, x):\n",
        "\t    print(x, '의 스피드로 테스트 차가 이동 중입니다.')\n",
        "\n",
        "class LargeCar(Car, MaxWheel):\n",
        "\t  pass\n",
        "\n",
        "class CompactCar(Car, MiniWheel):\n",
        "\t  pass\n",
        "\n",
        "class TestCar(Car, MaxWheel, TestWheel):\n",
        "\t  pass\n",
        "\n",
        "my_car = LargeCar('big')\n",
        "your_car = CompactCar('mini')\n",
        "test_car = TestCar('test')\n",
        "\n",
        "print(my_car.wheel)\n",
        "print(your_car.wheel)\n",
        "print(your_car.maxSpeed)\n",
        "your_car.move(100)\n",
        "test_car.move(100)"
      ],
      "metadata": {
        "colab": {
          "base_uri": "https://localhost:8080/"
        },
        "id": "C6XdWv1sqXzg",
        "outputId": "f979ebc5-c293-40ae-99cd-f816aeaf3f93"
      },
      "execution_count": null,
      "outputs": [
        {
          "output_type": "stream",
          "name": "stdout",
          "text": [
            "19\n",
            "15\n",
            "300\n",
            "100 의 스피드로 움직이고 있습니다.\n",
            "100 의 스피드로 움직이고 있습니다.\n"
          ]
        }
      ]
    },
    {
      "cell_type": "markdown",
      "source": [
        "# 7. 비공개 속성\n",
        "class 밖에서는 접근이 불가능한 변수를 만들 수 있다"
      ],
      "metadata": {
        "id": "AMNhBCrArCtT"
      }
    },
    {
      "cell_type": "code",
      "source": [
        "class Car(object):\n",
        "    __maxSpeed = 300\n",
        "    maxPeople = 5\n",
        "    def move(self, x):\n",
        "        print(x, '의 스피드로 움직이고 있습니다.')\n",
        "        print(self.__maxSpeed, '가 최고 속도입니다.')\n",
        "    def stop(self):\n",
        "        print('멈췄습니다.')\n",
        "\n",
        "k5 = Car()\n",
        "k5.move(10)\n",
        "k5.__maxSpeed #error\n",
        "k5.maxPeople"
      ],
      "metadata": {
        "id": "2IyFNG84qXxL",
        "colab": {
          "base_uri": "https://localhost:8080/",
          "height": 253
        },
        "outputId": "02d90c7b-9de0-4507-90e0-9e47a25dd057"
      },
      "execution_count": null,
      "outputs": [
        {
          "output_type": "stream",
          "name": "stdout",
          "text": [
            "10 의 스피드로 움직이고 있습니다.\n",
            "300 가 최고 속도입니다.\n"
          ]
        },
        {
          "output_type": "error",
          "ename": "AttributeError",
          "evalue": "ignored",
          "traceback": [
            "\u001b[0;31m---------------------------------------------------------------------------\u001b[0m",
            "\u001b[0;31mAttributeError\u001b[0m                            Traceback (most recent call last)",
            "\u001b[0;32m<ipython-input-7-4a796ba42a13>\u001b[0m in \u001b[0;36m<cell line: 12>\u001b[0;34m()\u001b[0m\n\u001b[1;32m     10\u001b[0m \u001b[0mk5\u001b[0m \u001b[0;34m=\u001b[0m \u001b[0mCar\u001b[0m\u001b[0;34m(\u001b[0m\u001b[0;34m)\u001b[0m\u001b[0;34m\u001b[0m\u001b[0;34m\u001b[0m\u001b[0m\n\u001b[1;32m     11\u001b[0m \u001b[0mk5\u001b[0m\u001b[0;34m.\u001b[0m\u001b[0mmove\u001b[0m\u001b[0;34m(\u001b[0m\u001b[0;36m10\u001b[0m\u001b[0;34m)\u001b[0m\u001b[0;34m\u001b[0m\u001b[0;34m\u001b[0m\u001b[0m\n\u001b[0;32m---> 12\u001b[0;31m \u001b[0mk5\u001b[0m\u001b[0;34m.\u001b[0m\u001b[0m__maxSpeed\u001b[0m \u001b[0;31m#error\u001b[0m\u001b[0;34m\u001b[0m\u001b[0;34m\u001b[0m\u001b[0m\n\u001b[0m\u001b[1;32m     13\u001b[0m \u001b[0mk5\u001b[0m\u001b[0;34m.\u001b[0m\u001b[0mmaxPeople\u001b[0m\u001b[0;34m\u001b[0m\u001b[0;34m\u001b[0m\u001b[0m\n",
            "\u001b[0;31mAttributeError\u001b[0m: 'Car' object has no attribute '__maxSpeed'"
          ]
        }
      ]
    }
  ]
}